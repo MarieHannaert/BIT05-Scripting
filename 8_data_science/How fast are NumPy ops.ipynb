{
 "cells": [
  {
   "cell_type": "markdown",
   "metadata": {},
   "source": [
    "# How fast are NumPy operations compared to regular Python math?\n",
    "#### In this brief notebook, we will create a list of 5-million random floating point numbers. Then we will use *for* loop to iterate over its elements, take Log10 and store the value in another list. We'll compare the execution speed with that of a direct NumPy Log10 operation\n",
    "\n",
    "You will often come across this assertion in the data science and Python community that NumPy is much faster due to its vectorized implementation and due to the fact that many of its core routines are written in C (based on CPython framework).\n",
    "\n",
    "And it is indeed true. \n",
    "\n",
    "Numpy arrays are densely packed arrays of homogeneous type. Python lists, by contrast, are arrays of pointers to objects, even when all of them are of the same type. So, you get the benefits of locality of reference. Also, many Numpy operations are implemented in C, avoiding the general cost of loops in Python, pointer indirection and per-element dynamic type checking. The speed boost depends on which operations you’re performing. \n",
    "\n",
    "For data science and modern machine learning tasks, this is an invaluable advantage, as often the data set size runs into millions if not billions of records."
   ]
  },
  {
   "cell_type": "code",
   "execution_count": 1,
   "metadata": {},
   "outputs": [],
   "source": [
    "import numpy as np\n",
    "from math import log10 as lg10\n",
    "import time\n",
    "import matplotlib.pyplot as plt\n",
    "import random\n",
    "%matplotlib inline"
   ]
  },
  {
   "cell_type": "code",
   "execution_count": 2,
   "metadata": {},
   "outputs": [],
   "source": [
    "N = 5000000 # Number of records to process\n",
    "speed = [] # Empty list to store operation speeds (time taken)"
   ]
  },
  {
   "cell_type": "markdown",
   "metadata": {},
   "source": [
    "#### Create a list of 5 million numbers"
   ]
  },
  {
   "cell_type": "code",
   "execution_count": 3,
   "metadata": {},
   "outputs": [
    {
     "name": "stdout",
     "output_type": "stream",
     "text": [
      "Length of l1: 5000000\n"
     ]
    }
   ],
   "source": [
    "l1 = list(100*(np.random.random(N))+1)\n",
    "print(\"Length of l1:\",len(l1))"
   ]
  },
  {
   "cell_type": "code",
   "execution_count": 4,
   "metadata": {},
   "outputs": [
    {
     "name": "stdout",
     "output_type": "stream",
     "text": [
      "First few elements of the array: [94.92951048430291, 70.62440973201578, 41.223793598567035, 63.55167191971156]\n"
     ]
    }
   ],
   "source": [
    "print(\"First few elements of the array:\", l1[:4])"
   ]
  },
  {
   "cell_type": "markdown",
   "metadata": {},
   "source": [
    "#### Create a NumPy ndarray object from that list i.e. vectorize it"
   ]
  },
  {
   "cell_type": "code",
   "execution_count": 5,
   "metadata": {},
   "outputs": [],
   "source": [
    "a1 = np.array(l1)"
   ]
  },
  {
   "cell_type": "code",
   "execution_count": 6,
   "metadata": {},
   "outputs": [
    {
     "name": "stdout",
     "output_type": "stream",
     "text": [
      "Shape of a1 object: (5000000,)\n",
      "Type of a1 object: <class 'numpy.ndarray'>\n"
     ]
    }
   ],
   "source": [
    "print(\"Shape of a1 object:\",a1.shape)\n",
    "print(\"Type of a1 object:\",type(a1))"
   ]
  },
  {
   "cell_type": "markdown",
   "metadata": {},
   "source": [
    "#### Create a blank list for appending elements"
   ]
  },
  {
   "cell_type": "code",
   "execution_count": 7,
   "metadata": {},
   "outputs": [],
   "source": [
    "l2=[] # Just a blanck list to append to"
   ]
  },
  {
   "cell_type": "markdown",
   "metadata": {},
   "source": [
    "### How fast is - For loop and appending"
   ]
  },
  {
   "cell_type": "code",
   "execution_count": 8,
   "metadata": {},
   "outputs": [
    {
     "name": "stdout",
     "output_type": "stream",
     "text": [
      "With for loop and appending it took 0.8833777904510498 seconds\n"
     ]
    }
   ],
   "source": [
    "t1=time.time()\n",
    "for item in l1:\n",
    "    l2.append(lg10(item))\n",
    "t2 = time.time()\n",
    "print(\"With for loop and appending it took {} seconds\".format(t2-t1))\n",
    "speed.append(t2-t1)"
   ]
  },
  {
   "cell_type": "code",
   "execution_count": 9,
   "metadata": {},
   "outputs": [
    {
     "name": "stdout",
     "output_type": "stream",
     "text": [
      "First few elements of the resulting array: [1.977401241386295, 1.8489548310759953, 1.6151479550102714, 1.80312698047545]\n"
     ]
    }
   ],
   "source": [
    "print(\"First few elements of the resulting array:\", l2[:4])"
   ]
  },
  {
   "cell_type": "markdown",
   "metadata": {},
   "source": [
    "### How fast it - List comprehension"
   ]
  },
  {
   "cell_type": "code",
   "execution_count": 10,
   "metadata": {},
   "outputs": [
    {
     "name": "stdout",
     "output_type": "stream",
     "text": [
      "With list comprehension, it took 0.7751429080963135 seconds\n"
     ]
    }
   ],
   "source": [
    "t1=time.time()\n",
    "l2 = [lg10(i) for i in range(1,5000001)]\n",
    "t2 = time.time()\n",
    "print(\"With list comprehension, it took {} seconds\".format(t2-t1))\n",
    "speed.append(t2-t1)"
   ]
  },
  {
   "cell_type": "code",
   "execution_count": 11,
   "metadata": {},
   "outputs": [
    {
     "name": "stdout",
     "output_type": "stream",
     "text": [
      "First few elements of the resulting array: [0.0, 0.3010299956639812, 0.47712125471966244, 0.6020599913279624]\n"
     ]
    }
   ],
   "source": [
    "print(\"First few elements of the resulting array:\", l2[:4])"
   ]
  },
  {
   "cell_type": "markdown",
   "metadata": {},
   "source": [
    "### How fast is - *Map* function method"
   ]
  },
  {
   "cell_type": "code",
   "execution_count": 12,
   "metadata": {},
   "outputs": [],
   "source": [
    "def op1(x):\n",
    "    return (lg10(x))"
   ]
  },
  {
   "cell_type": "code",
   "execution_count": 13,
   "metadata": {},
   "outputs": [
    {
     "name": "stdout",
     "output_type": "stream",
     "text": [
      "With map functional method it took 0.5963931083679199 seconds\n"
     ]
    }
   ],
   "source": [
    "t1=time.time()\n",
    "l2=list(map(op1,l1))\n",
    "t2 = time.time()\n",
    "print(\"With map functional method it took {} seconds\".format(t2-t1))\n",
    "speed.append(t2-t1)"
   ]
  },
  {
   "cell_type": "code",
   "execution_count": 14,
   "metadata": {},
   "outputs": [
    {
     "name": "stdout",
     "output_type": "stream",
     "text": [
      "First few elements of the resulting array: [1.977401241386295, 1.8489548310759953, 1.6151479550102714, 1.80312698047545]\n"
     ]
    }
   ],
   "source": [
    "print(\"First few elements of the resulting array:\", l2[:4])"
   ]
  },
  {
   "cell_type": "markdown",
   "metadata": {},
   "source": [
    "### How fast is - NumPy operation (vectorized array)"
   ]
  },
  {
   "cell_type": "code",
   "execution_count": 15,
   "metadata": {
    "scrolled": true
   },
   "outputs": [
    {
     "name": "stdout",
     "output_type": "stream",
     "text": [
      "With direct NumPy log10 method it took 0.064697265625 seconds\n"
     ]
    }
   ],
   "source": [
    "t1=time.time()\n",
    "a2=np.log10(a1)\n",
    "t2 = time.time()\n",
    "print(\"With direct NumPy log10 method it took {} seconds\".format(t2-t1))\n",
    "speed.append(t2-t1)"
   ]
  },
  {
   "cell_type": "code",
   "execution_count": 16,
   "metadata": {},
   "outputs": [
    {
     "name": "stdout",
     "output_type": "stream",
     "text": [
      "First few elements of the resulting array: [1.977401241386295, 1.8489548310759953, 1.6151479550102714, 1.80312698047545]\n"
     ]
    }
   ],
   "source": [
    "l3 = list(a2)\n",
    "print(\"First few elements of the resulting array:\", l3[:4])"
   ]
  },
  {
   "cell_type": "markdown",
   "metadata": {},
   "source": [
    "### Plot the time taken by each operation"
   ]
  },
  {
   "cell_type": "code",
   "execution_count": 17,
   "metadata": {},
   "outputs": [
    {
     "data": {
      "text/plain": [
       "<BarContainer object of 4 artists>"
      ]
     },
     "execution_count": 17,
     "metadata": {},
     "output_type": "execute_result"
    },
    {
     "data": {
      "image/png": "[encoded data removed]",
      "text/plain": [
       "<Figure size 1000x600 with 1 Axes>"
      ]
     },
     "metadata": {},
     "output_type": "display_data"
    }
   ],
   "source": [
    "plt.figure(figsize=(10,6))\n",
    "plt.ylabel(\"Time taken to process 1 million records in seconds\",fontsize=12)\n",
    "plt.xlabel(\"Various types of operations\",fontsize=14)\n",
    "plt.grid(True)\n",
    "plt.bar([1,2,3,4],speed, align='center',tick_label=['For-loop','List comprehension','Map function','NumPy'])"
   ]
  },
  {
   "cell_type": "markdown",
   "metadata": {},
   "source": [
    "### Therefore, we see the evidence that NumPy operations over ndarray objects are much faster than regular Python math operations over corresponding list. The exact speed of regular Python operations vary a little but they are always much slower compared to the vectorized NumPy operation."
   ]
  }
 ],
 "metadata": {
  "kernelspec": {
   "display_name": "Python 3 (ipykernel)",
   "language": "python",
   "name": "python3"
  },
  "language_info": {
   "codemirror_mode": {
    "name": "ipython",
    "version": 3
   },
   "file_extension": ".py",
   "mimetype": "text/x-python",
   "name": "python",
   "nbconvert_exporter": "python",
   "pygments_lexer": "ipython3",
   "version": "3.10.9"
  }
 },
 "nbformat": 4,
 "nbformat_minor": 2
}
