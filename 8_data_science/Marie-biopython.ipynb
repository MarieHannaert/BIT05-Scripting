{
 "cells": [
  {
   "cell_type": "code",
   "execution_count": 1,
   "id": "6faccc3b-999c-403b-a22f-750dd53b003b",
   "metadata": {},
   "outputs": [],
   "source": [
    "from Bio.Seq import Seq"
   ]
  },
  {
   "cell_type": "code",
   "execution_count": 2,
   "id": "30996f19-ace6-4b49-8f95-96cf94af0e82",
   "metadata": {},
   "outputs": [],
   "source": [
    ">>> my_seq = Seq(\"GATCGATGGGCCTATATAGGATCGAAAATCGC\")"
   ]
  },
  {
   "cell_type": "code",
   "execution_count": 3,
   "id": "4491a430-d9a6-4792-9af4-2f887569de68",
   "metadata": {},
   "outputs": [
    {
     "data": {
      "text/plain": [
       "Seq('GATCGATGGGCCTATATAGGATCGAAAATCGC')"
      ]
     },
     "execution_count": 3,
     "metadata": {},
     "output_type": "execute_result"
    }
   ],
   "source": [
    ">>> my_seq"
   ]
  },
  {
   "cell_type": "code",
   "execution_count": 4,
   "id": "76cd459b-2ae1-4dc1-824d-01ba79561ec7",
   "metadata": {},
   "outputs": [
    {
     "data": {
      "text/plain": [
       "Seq('CTAGCTACCCGGATATATCCTAGCTTTTAGCG')"
      ]
     },
     "execution_count": 4,
     "metadata": {},
     "output_type": "execute_result"
    }
   ],
   "source": [
    ">>> my_seq.complement()"
   ]
  },
  {
   "cell_type": "code",
   "execution_count": 5,
   "id": "049bdcfa-7594-4eb7-9902-f299f27ce5cf",
   "metadata": {},
   "outputs": [
    {
     "data": {
      "text/plain": [
       "Seq('GCGATTTTCGATCCTATATAGGCCCATCGATC')"
      ]
     },
     "execution_count": 5,
     "metadata": {},
     "output_type": "execute_result"
    }
   ],
   "source": [
    ">>> my_seq.reverse_complement()"
   ]
  },
  {
   "cell_type": "code",
   "execution_count": 7,
   "id": "b1431ca2-c732-4671-bb05-12fbda201289",
   "metadata": {},
   "outputs": [
    {
     "data": {
      "text/plain": [
       "0.46875"
      ]
     },
     "execution_count": 7,
     "metadata": {},
     "output_type": "execute_result"
    }
   ],
   "source": [
    ">>> from Bio.SeqUtils import gc_fraction\n",
    ">>> my_seq = Seq(\"GATCGATGGGCCTATATAGGATCGAAAATCGC\")\n",
    ">>> gc_fraction(my_seq)"
   ]
  },
  {
   "cell_type": "code",
   "execution_count": 8,
   "id": "0bfff434-90e4-4a50-b814-78e7dde0f53b",
   "metadata": {},
   "outputs": [],
   "source": [
    ">>> from Bio.Blast import NCBIWWW"
   ]
  },
  {
   "cell_type": "code",
   "execution_count": null,
   "id": "82c5dff2-ddb2-4362-8dea-db365f35d166",
   "metadata": {},
   "outputs": [],
   "source": [
    ">>> from Bio import SeqIO\n",
    ">>> record = SeqIO.read(\"cov2_test.fasta\", format=\"fasta\")\n",
    ">>> result_handle = NCBIWWW.qblast(\"blastn\", \"nt\", record.format(\"fasta\"))\n"
   ]
  },
  {
   "cell_type": "code",
   "execution_count": null,
   "id": "7cba8531-2624-4686-b7b8-356bc770210b",
   "metadata": {},
   "outputs": [],
   "source": [
    "with open(\"my_blast.xml\", \"w\") as out_handle:\n",
    "    out_handle.write(result_handle.read())"
   ]
  },
  {
   "cell_type": "code",
   "execution_count": null,
   "id": "31be23ad-7e27-464e-8bcc-3e51272cedce",
   "metadata": {},
   "outputs": [],
   "source": [
    "result_handle.close()"
   ]
  },
  {
   "cell_type": "code",
   "execution_count": null,
   "id": "2b68d543-7481-4b01-8f5d-38d959241d84",
   "metadata": {},
   "outputs": [],
   "source": [
    "result_handle = open(\"my_blast.xml\")"
   ]
  },
  {
   "cell_type": "code",
   "execution_count": null,
   "id": "621bdc8a-e3a3-4f1c-801f-9c2ae9509688",
   "metadata": {},
   "outputs": [],
   "source": [
    ">>> from Bio.Blast import NCBIXML\n",
    ">>> blast_record = NCBIXML.read(result_handle)"
   ]
  },
  {
   "cell_type": "code",
   "execution_count": null,
   "id": "6d84a434-9f07-427b-999f-7b7c3d6d443c",
   "metadata": {},
   "outputs": [],
   "source": [
    ">>> from Bio.Blast import NCBIXML\n",
    ">>> blast_records = NCBIXML.parse(result_handle)"
   ]
  },
  {
   "cell_type": "code",
   "execution_count": null,
   "id": "25a7e92b-7ba8-4eeb-a042-3d4c395c3db6",
   "metadata": {},
   "outputs": [],
   "source": [
    ">>> aligner.match_score = 1.0\n",
    ">>> aligner.mismatch_score = -2.0\n",
    ">>> aligner.gap_score = -2.5\n",
    ">>> score = aligner.score(\"ACGT\", \"ACAT\")\n",
    ">>> print(score)"
   ]
  },
  {
   "cell_type": "code",
   "execution_count": null,
   "id": "ec81cb3f-e6d3-43d4-bb4d-d0d8483dbdc9",
   "metadata": {},
   "outputs": [],
   "source": [
    "from Bio import Seq10\n",
    "fasta_file = open(\"mm10_dna.fasta\", \"r\")\n",
    "for seq_record in Seq10.parse(fasta_file, \"fasta\")"
   ]
  }
 ],
 "metadata": {
  "kernelspec": {
   "display_name": "Python 3 (ipykernel)",
   "language": "python",
   "name": "python3"
  },
  "language_info": {
   "codemirror_mode": {
    "name": "ipython",
    "version": 3
   },
   "file_extension": ".py",
   "mimetype": "text/x-python",
   "name": "python",
   "nbconvert_exporter": "python",
   "pygments_lexer": "ipython3",
   "version": "3.11.7"
  }
 },
 "nbformat": 4,
 "nbformat_minor": 5
}
