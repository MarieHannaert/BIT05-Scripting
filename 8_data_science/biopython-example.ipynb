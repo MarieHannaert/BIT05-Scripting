{
 "cells": [
  {
   "cell_type": "markdown",
   "id": "greater-crest",
   "metadata": {},
   "source": [
    "# Exploring biopython"
   ]
  },
  {
   "cell_type": "markdown",
   "id": "numeric-tuner",
   "metadata": {},
   "source": [
    "## Reverse complement"
   ]
  },
  {
   "cell_type": "code",
   "execution_count": 1,
   "id": "descending-bunch",
   "metadata": {},
   "outputs": [
    {
     "name": "stdout",
     "output_type": "stream",
     "text": [
      "\n",
      "Reverse complement:\n",
      "AGCACGACCACCCTTCCAACGACCCATAACAGC\n"
     ]
    }
   ],
   "source": [
    "from Bio.Seq import reverse_complement, transcribe, translate\n",
    "rcseq = reverse_complement(\"GCTGTTATGGGTCGTTGGAAGGGTGGTCGTGCT\")\n",
    "print(\"\\nReverse complement:\\n{}\".format(rcseq))"
   ]
  },
  {
   "cell_type": "markdown",
   "id": "previous-proposal",
   "metadata": {},
   "source": [
    "## Calculating GC-content"
   ]
  },
  {
   "cell_type": "code",
   "execution_count": 2,
   "id": "greater-dispute",
   "metadata": {},
   "outputs": [
    {
     "ename": "ImportError",
     "evalue": "cannot import name 'GC' from 'Bio.SeqUtils' (/home/guest/.local/lib/python3.11/site-packages/Bio/SeqUtils/__init__.py)",
     "output_type": "error",
     "traceback": [
      "\u001b[0;31m---------------------------------------------------------------------------\u001b[0m",
      "\u001b[0;31mImportError\u001b[0m                               Traceback (most recent call last)",
      "Cell \u001b[0;32mIn[2], line 1\u001b[0m\n\u001b[0;32m----> 1\u001b[0m \u001b[38;5;28;01mfrom\u001b[39;00m \u001b[38;5;21;01mBio\u001b[39;00m\u001b[38;5;21;01m.\u001b[39;00m\u001b[38;5;21;01mSeqUtils\u001b[39;00m \u001b[38;5;28;01mimport\u001b[39;00m GC\n\u001b[1;32m      2\u001b[0m seq \u001b[38;5;241m=\u001b[39m \u001b[38;5;124m\"\u001b[39m\u001b[38;5;124mGCTGTTATGGGTCGTTGGAAGGGTGGTCGTGCT\u001b[39m\u001b[38;5;124m\"\u001b[39m\n\u001b[1;32m      3\u001b[0m \u001b[38;5;28mprint\u001b[39m(\u001b[38;5;124m\"\u001b[39m\u001b[38;5;130;01m\\n\u001b[39;00m\u001b[38;5;124mSequence:\u001b[39m\u001b[38;5;130;01m\\n\u001b[39;00m\u001b[38;5;132;01m{}\u001b[39;00m\u001b[38;5;124m\"\u001b[39m\u001b[38;5;241m.\u001b[39mformat(seq))\n",
      "\u001b[0;31mImportError\u001b[0m: cannot import name 'GC' from 'Bio.SeqUtils' (/home/guest/.local/lib/python3.11/site-packages/Bio/SeqUtils/__init__.py)"
     ]
    }
   ],
   "source": [
    "from Bio.SeqUtils import GC\n",
    "seq = \"GCTGTTATGGGTCGTTGGAAGGGTGGTCGTGCT\"\n",
    "print(\"\\nSequence:\\n{}\".format(seq))\n",
    "print(\"\\nGC content of seq:\\n{:0.1f}%\".format(GC(seq)))"
   ]
  },
  {
   "cell_type": "markdown",
   "id": "planned-witness",
   "metadata": {},
   "source": [
    "## Running www BLAST search"
   ]
  },
  {
   "cell_type": "code",
   "execution_count": 3,
   "id": "contrary-money",
   "metadata": {},
   "outputs": [
    {
     "name": "stdout",
     "output_type": "stream",
     "text": [
      "Help on function qblast in module Bio.Blast.NCBIWWW:\n",
      "\n",
      "qblast(program, database, sequence, url_base='https://blast.ncbi.nlm.nih.gov/Blast.cgi', auto_format=None, composition_based_statistics=None, db_genetic_code=None, endpoints=None, entrez_query='(none)', expect=10.0, filter=None, gapcosts=None, genetic_code=None, hitlist_size=50, i_thresh=None, layout=None, lcase_mask=None, matrix_name=None, nucl_penalty=None, nucl_reward=None, other_advanced=None, perc_ident=None, phi_pattern=None, query_file=None, query_believe_defline=None, query_from=None, query_to=None, searchsp_eff=None, service=None, threshold=None, ungapped_alignment=None, word_size=None, short_query=None, alignments=500, alignment_view=None, descriptions=500, entrez_links_new_window=None, expect_low=None, expect_high=None, format_entrez_query=None, format_object=None, format_type='XML', ncbi_gi=None, results_file=None, show_overview=None, megablast=None, template_type=None, template_length=None, username='blast', password=None)\n",
      "    BLAST search using NCBI's QBLAST server or a cloud service provider.\n",
      "    \n",
      "    Supports all parameters of the old qblast API for Put and Get.\n",
      "    \n",
      "    Please note that NCBI uses the new Common URL API for BLAST searches\n",
      "    on the internet (http://ncbi.github.io/blast-cloud/dev/api.html). Thus,\n",
      "    some of the parameters used by this function are not (or are no longer)\n",
      "    officially supported by NCBI. Although they are still functioning, this\n",
      "    may change in the future.\n",
      "    \n",
      "    The Common URL API (http://ncbi.github.io/blast-cloud/dev/api.html) allows\n",
      "    doing BLAST searches on cloud servers. To use this feature, please set\n",
      "    ``url_base='http://host.my.cloud.service.provider.com/cgi-bin/blast.cgi'``\n",
      "    and ``format_object='Alignment'``. For more details, please see\n",
      "    https://blast.ncbi.nlm.nih.gov/Blast.cgi?PAGE_TYPE=BlastDocs&DOC_TYPE=CloudBlast\n",
      "    \n",
      "    Some useful parameters:\n",
      "    \n",
      "     - program        blastn, blastp, blastx, tblastn, or tblastx (lower case)\n",
      "     - database       Which database to search against (e.g. \"nr\").\n",
      "     - sequence       The sequence to search.\n",
      "     - ncbi_gi        TRUE/FALSE whether to give 'gi' identifier.\n",
      "     - descriptions   Number of descriptions to show.  Def 500.\n",
      "     - alignments     Number of alignments to show.  Def 500.\n",
      "     - expect         An expect value cutoff.  Def 10.0.\n",
      "     - matrix_name    Specify an alt. matrix (PAM30, PAM70, BLOSUM80, BLOSUM45).\n",
      "     - filter         \"none\" turns off filtering.  Default no filtering\n",
      "     - format_type    \"HTML\", \"Text\", \"ASN.1\", or \"XML\".  Def. \"XML\".\n",
      "     - entrez_query   Entrez query to limit Blast search\n",
      "     - hitlist_size   Number of hits to return. Default 50\n",
      "     - megablast      TRUE/FALSE whether to use MEga BLAST algorithm (blastn only)\n",
      "     - short_query    TRUE/FALSE whether to adjust the search parameters for a\n",
      "                      short query sequence. Note that this will override\n",
      "                      manually set parameters like word size and e value. Turns\n",
      "                      off when sequence length is > 30 residues. Default: None.\n",
      "     - service        plain, psi, phi, rpsblast, megablast (lower case)\n",
      "    \n",
      "    This function does no checking of the validity of the parameters\n",
      "    and passes the values to the server as is.  More help is available at:\n",
      "    https://ncbi.github.io/blast-cloud/dev/api.html\n",
      "\n"
     ]
    }
   ],
   "source": [
    "from Bio.Blast import NCBIWWW\n",
    "help(NCBIWWW.qblast)"
   ]
  },
  {
   "cell_type": "code",
   "execution_count": 4,
   "id": "ethical-lender",
   "metadata": {},
   "outputs": [
    {
     "name": "stdout",
     "output_type": "stream",
     "text": [
      ">cov2_test\n",
      "ATGTTTGTTTTTCTTGTTTTATTGCCACTAGTCTCTAGTCAGTGTGTTAATCTTACAACCAGAACTCAAT\n",
      "TACCCCCTGCATACACTAATTCTTTCACACGTGGTGTTTATTACCCTGACAAAGTTTTCAGATCCTCAGT\n"
     ]
    }
   ],
   "source": [
    "import os\n",
    "os.getcwd()\n",
    "f = open(\"cov2_test.fasta\", \"r\")\n",
    "print(f.read())"
   ]
  },
  {
   "cell_type": "code",
   "execution_count": 5,
   "id": "powerful-delaware",
   "metadata": {},
   "outputs": [],
   "source": [
    "from Bio import SeqIO\n",
    "record = SeqIO.read(\"cov2_test.fasta\", format=\"fasta\")\n",
    "result_handle = NCBIWWW.qblast(\"blastn\",\"nt\",record.seq)"
   ]
  },
  {
   "cell_type": "markdown",
   "id": "entertaining-judge",
   "metadata": {},
   "source": [
    "We need to be a bit careful since we can use result_handle.read() to read the BLAST output only once. \\\n",
    "Calling result_handle.read() again returns an empty string"
   ]
  },
  {
   "cell_type": "code",
   "execution_count": 6,
   "id": "overall-decade",
   "metadata": {},
   "outputs": [],
   "source": [
    "# Saving the blast result\n",
    "with open(\"my_blast.xml\", \"w\") as out_handle:\n",
    "    out_handle.write(result_handle.read())\n",
    "result_handle.close()"
   ]
  },
  {
   "cell_type": "markdown",
   "id": "cooperative-occupation",
   "metadata": {},
   "source": [
    "## Parsing BLAST output"
   ]
  },
  {
   "cell_type": "code",
   "execution_count": 7,
   "id": "beginning-indian",
   "metadata": {},
   "outputs": [],
   "source": [
    "from Bio.Blast import NCBIXML\n",
    "result_handle = open(\"my_blast.xml\")"
   ]
  },
  {
   "cell_type": "code",
   "execution_count": 8,
   "id": "driving-hours",
   "metadata": {},
   "outputs": [
    {
     "name": "stdout",
     "output_type": "stream",
     "text": [
      "****Alignment****\n",
      "sequence: gi|2648008670|gb|PP125291.1| Severe acute respiratory syndrome coronavirus 2 isolate SARS-CoV-2/human/DEU/BA.1.17.2/2022, complete genome\n",
      "e value: 6.20442e-63\n",
      "****Alignment****\n",
      "sequence: gi|2648008630|gb|PP125284.1| Severe acute respiratory syndrome coronavirus 2 isolate SARS-CoV-2/human/DEU/BA.1.1/2022, complete genome\n",
      "e value: 6.20442e-63\n",
      "****Alignment****\n",
      "sequence: gi|2648008521|gb|PP125281.1| Severe acute respiratory syndrome coronavirus 2 isolate SARS-CoV-2/human/DEU/B.1.1 (isolate CJ)/2020, complete genome\n",
      "e value: 6.20442e-63\n",
      "****Alignment****\n",
      "sequence: gi|2647781542|emb|OY997587.1| Severe acute respiratory syndrome coronavirus 2 genome assembly, chromosome: 1\n",
      "e value: 6.20442e-63\n",
      "****Alignment****\n",
      "sequence: gi|2647781510|emb|OY997555.1| Severe acute respiratory syndrome coronavirus 2 genome assembly, chromosome: 1\n",
      "e value: 6.20442e-63\n",
      "****Alignment****\n",
      "sequence: gi|2647781466|emb|OY997511.1| Severe acute respiratory syndrome coronavirus 2 genome assembly, chromosome: 1\n",
      "e value: 6.20442e-63\n",
      "****Alignment****\n",
      "sequence: gi|2647781417|emb|OY997473.1| Severe acute respiratory syndrome coronavirus 2 genome assembly, chromosome: 1\n",
      "e value: 6.20442e-63\n",
      "****Alignment****\n",
      "sequence: gi|2647781399|emb|OY997457.1| Severe acute respiratory syndrome coronavirus 2 genome assembly, chromosome: 1\n",
      "e value: 6.20442e-63\n",
      "****Alignment****\n",
      "sequence: gi|2647781366|emb|OY997425.1| Severe acute respiratory syndrome coronavirus 2 genome assembly, chromosome: 1\n",
      "e value: 6.20442e-63\n",
      "****Alignment****\n",
      "sequence: gi|2647762494|gb|PP123747.1| Severe acute respiratory syndrome coronavirus 2 isolate SARS-CoV-2/human/USA/SEARCH-7948/2021 ORF1ab polyprotein (ORF1ab), ORF1a polyprotein (ORF1ab), surface glycoprotein (S), ORF3a protein (ORF3a), envelope protein (E), membrane glycoprotein (M), ORF6 protein (ORF6), ORF7a protein (ORF7a), and ORF7b (ORF7b) genes, complete cds; ORF8 gene, complete sequence; and nucleocapsid phosphoprotein (N) and ORF10 protein (ORF10) genes, complete cds\n",
      "e value: 6.20442e-63\n",
      "****Alignment****\n",
      "sequence: gi|2647762482|gb|PP123746.1| Severe acute respiratory syndrome coronavirus 2 isolate SARS-CoV-2/human/USA/SEARCH-7946/2021 ORF1ab polyprotein (ORF1ab), ORF1a polyprotein (ORF1ab), surface glycoprotein (S), ORF3a protein (ORF3a), envelope protein (E), membrane glycoprotein (M), and ORF6 protein (ORF6) genes, complete cds; ORF7a protein (ORF7a) and ORF7b (ORF7b) genes, partial cds; ORF8 gene, partial sequence; and nucleocapsid phosphoprotein (N) and ORF10 protein (ORF10) genes, complete cds\n",
      "e value: 6.20442e-63\n",
      "****Alignment****\n",
      "sequence: gi|2647762457|gb|PP123744.1| Severe acute respiratory syndrome coronavirus 2 isolate SARS-CoV-2/human/USA/SEARCH-7943/2021 ORF1ab polyprotein (ORF1ab), ORF1a polyprotein (ORF1ab), surface glycoprotein (S), ORF3a protein (ORF3a), envelope protein (E), membrane glycoprotein (M), ORF6 protein (ORF6), ORF7a protein (ORF7a), and ORF7b (ORF7b) genes, complete cds; ORF8 gene, complete sequence; and nucleocapsid phosphoprotein (N) and ORF10 protein (ORF10) genes, complete cds\n",
      "e value: 6.20442e-63\n",
      "****Alignment****\n",
      "sequence: gi|2647762445|gb|PP123743.1| Severe acute respiratory syndrome coronavirus 2 isolate SARS-CoV-2/human/USA/SEARCH-7942/2021 ORF1ab polyprotein (ORF1ab), ORF1a polyprotein (ORF1ab), surface glycoprotein (S), ORF3a protein (ORF3a), envelope protein (E), membrane glycoprotein (M), and ORF6 protein (ORF6) genes, complete cds; ORF7a protein (ORF7a) and ORF8 protein (ORF8) genes, partial cds; and nucleocapsid phosphoprotein (N) and ORF10 protein (ORF10) genes, complete cds\n",
      "e value: 6.20442e-63\n",
      "****Alignment****\n",
      "sequence: gi|2647762393|gb|PP123739.1| Severe acute respiratory syndrome coronavirus 2 isolate SARS-CoV-2/human/USA/SEARCH-16433/2021, complete genome\n",
      "e value: 6.20442e-63\n",
      "****Alignment****\n",
      "sequence: gi|2647762380|gb|PP123738.1| Severe acute respiratory syndrome coronavirus 2 isolate SARS-CoV-2/human/USA/SEARCH-16431/2021, complete genome\n",
      "e value: 6.20442e-63\n",
      "****Alignment****\n",
      "sequence: gi|2647762367|gb|PP123737.1| Severe acute respiratory syndrome coronavirus 2 isolate SARS-CoV-2/human/USA/SEARCH-16429/2021, complete genome\n",
      "e value: 6.20442e-63\n",
      "****Alignment****\n",
      "sequence: gi|2647762315|gb|PP123733.1| Severe acute respiratory syndrome coronavirus 2 isolate SARS-CoV-2/human/USA/SEARCH-16422/2021, complete genome\n",
      "e value: 6.20442e-63\n",
      "****Alignment****\n",
      "sequence: gi|2647762263|gb|PP123729.1| Severe acute respiratory syndrome coronavirus 2 isolate SARS-CoV-2/human/USA/SEARCH-16417/2021, complete genome\n",
      "e value: 6.20442e-63\n",
      "****Alignment****\n",
      "sequence: gi|2647762250|gb|PP123728.1| Severe acute respiratory syndrome coronavirus 2 isolate SARS-CoV-2/human/USA/SEARCH-16416/2021, complete genome\n",
      "e value: 6.20442e-63\n",
      "****Alignment****\n",
      "sequence: gi|2647762237|gb|PP123727.1| Severe acute respiratory syndrome coronavirus 2 isolate SARS-CoV-2/human/USA/SEARCH-16415/2021, complete genome\n",
      "e value: 6.20442e-63\n",
      "****Alignment****\n",
      "sequence: gi|2647762146|gb|PP123720.1| Severe acute respiratory syndrome coronavirus 2 isolate SARS-CoV-2/human/USA/SEARCH-16405/2021, complete genome\n",
      "e value: 6.20442e-63\n",
      "****Alignment****\n",
      "sequence: gi|2647762133|gb|PP123719.1| Severe acute respiratory syndrome coronavirus 2 isolate SARS-CoV-2/human/USA/SEARCH-16404/2021, complete genome\n",
      "e value: 6.20442e-63\n",
      "****Alignment****\n",
      "sequence: gi|2647762107|gb|PP123717.1| Severe acute respiratory syndrome coronavirus 2 isolate SARS-CoV-2/human/USA/SEARCH-16402/2021, complete genome\n",
      "e value: 6.20442e-63\n",
      "****Alignment****\n",
      "sequence: gi|2647762081|gb|PP123715.1| Severe acute respiratory syndrome coronavirus 2 isolate SARS-CoV-2/human/USA/SEARCH-16399/2020, complete genome\n",
      "e value: 6.20442e-63\n",
      "****Alignment****\n",
      "sequence: gi|2647761990|gb|PP123708.1| Severe acute respiratory syndrome coronavirus 2 isolate SARS-CoV-2/human/USA/SEARCH-16392/2021, complete genome\n",
      "e value: 6.20442e-63\n",
      "****Alignment****\n",
      "sequence: gi|2647761977|gb|PP123707.1| Severe acute respiratory syndrome coronavirus 2 isolate SARS-CoV-2/human/USA/SEARCH-16390/2020, complete genome\n",
      "e value: 6.20442e-63\n",
      "****Alignment****\n",
      "sequence: gi|2647761964|gb|PP123706.1| Severe acute respiratory syndrome coronavirus 2 isolate SARS-CoV-2/human/USA/SEARCH-16389/2021, complete genome\n",
      "e value: 6.20442e-63\n",
      "****Alignment****\n",
      "sequence: gi|2647761938|gb|PP123704.1| Severe acute respiratory syndrome coronavirus 2 isolate SARS-CoV-2/human/USA/SEARCH-16386/2021, complete genome\n",
      "e value: 6.20442e-63\n",
      "****Alignment****\n",
      "sequence: gi|2647761925|gb|PP123703.1| Severe acute respiratory syndrome coronavirus 2 isolate SARS-CoV-2/human/USA/SEARCH-16384/2021, complete genome\n",
      "e value: 6.20442e-63\n",
      "****Alignment****\n",
      "sequence: gi|2647761912|gb|PP123702.1| Severe acute respiratory syndrome coronavirus 2 isolate SARS-CoV-2/human/USA/SEARCH-16383/2021, complete genome\n",
      "e value: 6.20442e-63\n",
      "****Alignment****\n",
      "sequence: gi|2647761886|gb|PP123700.1| Severe acute respiratory syndrome coronavirus 2 isolate SARS-CoV-2/human/USA/SEARCH-16379/2021, complete genome\n",
      "e value: 6.20442e-63\n",
      "****Alignment****\n",
      "sequence: gi|2647761873|gb|PP123699.1| Severe acute respiratory syndrome coronavirus 2 isolate SARS-CoV-2/human/USA/SEARCH-16378/2021, complete genome\n",
      "e value: 6.20442e-63\n",
      "****Alignment****\n",
      "sequence: gi|2647761795|gb|PP123693.1| Severe acute respiratory syndrome coronavirus 2 isolate SARS-CoV-2/human/USA/SEARCH-16371/2021, complete genome\n",
      "e value: 6.20442e-63\n",
      "****Alignment****\n",
      "sequence: gi|2647761769|gb|PP123691.1| Severe acute respiratory syndrome coronavirus 2 isolate SARS-CoV-2/human/USA/SEARCH-16369/2021, complete genome\n",
      "e value: 6.20442e-63\n",
      "****Alignment****\n",
      "sequence: gi|2647761756|gb|PP123690.1| Severe acute respiratory syndrome coronavirus 2 isolate SARS-CoV-2/human/USA/SEARCH-16368/2021, complete genome\n",
      "e value: 6.20442e-63\n",
      "****Alignment****\n",
      "sequence: gi|2647761704|gb|PP123686.1| Severe acute respiratory syndrome coronavirus 2 isolate SARS-CoV-2/human/USA/SEARCH-16364/2021, complete genome\n",
      "e value: 6.20442e-63\n",
      "****Alignment****\n",
      "sequence: gi|2647761691|gb|PP123685.1| Severe acute respiratory syndrome coronavirus 2 isolate SARS-CoV-2/human/USA/SEARCH-16362/2021, complete genome\n",
      "e value: 6.20442e-63\n",
      "****Alignment****\n",
      "sequence: gi|2647761600|gb|PP123678.1| Severe acute respiratory syndrome coronavirus 2 isolate SARS-CoV-2/human/USA/SEARCH-16354/2021, complete genome\n",
      "e value: 6.20442e-63\n",
      "****Alignment****\n",
      "sequence: gi|2647761587|gb|PP123677.1| Severe acute respiratory syndrome coronavirus 2 isolate SARS-CoV-2/human/USA/SEARCH-16353/2021, complete genome\n",
      "e value: 6.20442e-63\n",
      "****Alignment****\n",
      "sequence: gi|2647761548|gb|PP123674.1| Severe acute respiratory syndrome coronavirus 2 isolate SARS-CoV-2/human/USA/SEARCH-16350/2021, complete genome\n",
      "e value: 6.20442e-63\n",
      "****Alignment****\n",
      "sequence: gi|2647761496|gb|PP123670.1| Severe acute respiratory syndrome coronavirus 2 isolate SARS-CoV-2/human/USA/SEARCH-16346/2021, complete genome\n",
      "e value: 6.20442e-63\n",
      "****Alignment****\n",
      "sequence: gi|2647761483|gb|PP123669.1| Severe acute respiratory syndrome coronavirus 2 isolate SARS-CoV-2/human/USA/SEARCH-16345/2021, complete genome\n",
      "e value: 6.20442e-63\n",
      "****Alignment****\n",
      "sequence: gi|2647761444|gb|PP123666.1| Severe acute respiratory syndrome coronavirus 2 isolate SARS-CoV-2/human/USA/SEARCH-16342/2021, complete genome\n",
      "e value: 6.20442e-63\n",
      "****Alignment****\n",
      "sequence: gi|2647761431|gb|PP123665.1| Severe acute respiratory syndrome coronavirus 2 isolate SARS-CoV-2/human/USA/SEARCH-16341/2021, complete genome\n",
      "e value: 6.20442e-63\n",
      "****Alignment****\n",
      "sequence: gi|2647761392|gb|PP123662.1| Severe acute respiratory syndrome coronavirus 2 isolate SARS-CoV-2/human/USA/SEARCH-16338/2021, complete genome\n",
      "e value: 6.20442e-63\n",
      "****Alignment****\n",
      "sequence: gi|2647761379|gb|PP123661.1| Severe acute respiratory syndrome coronavirus 2 isolate SARS-CoV-2/human/USA/SEARCH-16337/2021, complete genome\n",
      "e value: 6.20442e-63\n",
      "****Alignment****\n",
      "sequence: gi|2647761327|gb|PP123657.1| Severe acute respiratory syndrome coronavirus 2 isolate SARS-CoV-2/human/USA/SEARCH-16331/2021, complete genome\n",
      "e value: 6.20442e-63\n",
      "****Alignment****\n",
      "sequence: gi|2647761315|gb|PP123656.1| Severe acute respiratory syndrome coronavirus 2 isolate SARS-CoV-2/human/USA/SEARCH-16330/2021 ORF1ab polyprotein (ORF1ab), ORF1a polyprotein (ORF1ab), surface glycoprotein (S), ORF3a protein (ORF3a), envelope protein (E), membrane glycoprotein (M), ORF6 protein (ORF6), ORF7a protein (ORF7a), and ORF7b (ORF7b) genes, complete cds; ORF8 gene, complete sequence; and nucleocapsid phosphoprotein (N) and ORF10 protein (ORF10) genes, complete cds\n",
      "e value: 6.20442e-63\n",
      "****Alignment****\n",
      "sequence: gi|2647761302|gb|PP123655.1| Severe acute respiratory syndrome coronavirus 2 isolate SARS-CoV-2/human/USA/SEARCH-16329/2021 ORF1ab polyprotein (ORF1ab), ORF1a polyprotein (ORF1ab), surface glycoprotein (S), ORF3a protein (ORF3a), envelope protein (E), membrane glycoprotein (M), ORF6 protein (ORF6), and ORF7a protein (ORF7a) genes, complete cds; ORF7b (ORF7b) and ORF8 protein (ORF8) genes, partial cds; and nucleocapsid phosphoprotein (N) and ORF10 protein (ORF10) genes, complete cds\n",
      "e value: 6.20442e-63\n",
      "****Alignment****\n",
      "sequence: gi|2647761289|gb|PP123654.1| Severe acute respiratory syndrome coronavirus 2 isolate SARS-CoV-2/human/USA/SEARCH-16328/2021, complete genome\n",
      "e value: 6.20442e-63\n"
     ]
    }
   ],
   "source": [
    "blast_record = NCBIXML.read(result_handle)\n",
    "for alignment in blast_record.alignments:\n",
    "    for hsp in alignment.hsps:\n",
    "        print(\"****Alignment****\")\n",
    "        print(\"sequence:\", alignment.title)\n",
    "        print(\"e value:\", hsp.expect)"
   ]
  },
  {
   "cell_type": "markdown",
   "id": "scientific-tomorrow",
   "metadata": {},
   "source": [
    "## GenBank file parsing"
   ]
  },
  {
   "cell_type": "markdown",
   "id": "prospective-minority",
   "metadata": {},
   "source": [
    "### First CDS feature in NC_005816.gb\n",
    "87..1109 \\\n",
    "/locus_tag=\"YP_RS22210\" \\\n",
    "/product=\"IS21-like element IS100 family transposase\" \\\n",
    "/protein_id=\"WP_000255944.1\" \\\n",
    "/translation=\"MVTF...RGVA\""
   ]
  },
  {
   "cell_type": "code",
   "execution_count": 9,
   "id": "given-firmware",
   "metadata": {},
   "outputs": [
    {
     "name": "stdout",
     "output_type": "stream",
     "text": [
      "Locus tag = ['YP_RS22210']\n",
      "Product = ['IS21-like element IS100 family transposase']\n",
      "\n",
      "Locus tag = ['YP_RS22215']\n",
      "Product = ['IS21-like element IS100kyp family helper ATPase IstB']\n",
      "\n",
      "Locus tag = ['YP_RS22220']\n",
      "Product = ['Rop family plasmid primer RNA-binding protein']\n",
      "\n",
      "Locus tag = ['YP_RS22225']\n",
      "Product = ['pesticin immunity protein']\n",
      "\n",
      "Locus tag = ['YP_RS22230']\n",
      "Product = ['pesticin']\n",
      "\n",
      "Locus tag = ['YP_RS22235']\n",
      "Product = ['hypothetical protein']\n",
      "\n",
      "Locus tag = ['YP_RS22240']\n",
      "Product = ['omptin family plasminogen activator Pla']\n",
      "\n",
      "Locus tag = ['YP_RS22245']\n",
      "Product = ['XRE family transcriptional regulator']\n",
      "\n",
      "Locus tag = ['YP_RS22250']\n",
      "Product = ['type II toxin-antitoxin system RelE/ParE family toxin']\n",
      "\n"
     ]
    }
   ],
   "source": [
    "from Bio import SeqIO\n",
    "record = SeqIO.read(\"NC_005816.gb\", \"genbank\")\n",
    "for feature in record.features:\n",
    "    if feature.type == \"CDS\":\n",
    "        print(\"Locus tag = {}\".format(feature.qualifiers.get(\"locus_tag\")))\n",
    "        print(\"Product = {}\\n\".format(feature.qualifiers.get(\"product\")))"
   ]
  }
 ],
 "metadata": {
  "kernelspec": {
   "display_name": "Python 3 (ipykernel)",
   "language": "python",
   "name": "python3"
  },
  "language_info": {
   "codemirror_mode": {
    "name": "ipython",
    "version": 3
   },
   "file_extension": ".py",
   "mimetype": "text/x-python",
   "name": "python",
   "nbconvert_exporter": "python",
   "pygments_lexer": "ipython3",
   "version": "3.11.7"
  }
 },
 "nbformat": 4,
 "nbformat_minor": 5
}
