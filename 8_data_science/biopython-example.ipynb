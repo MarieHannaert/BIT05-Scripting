{
 "cells": [
  {
   "cell_type": "markdown",
   "id": "greater-crest",
   "metadata": {},
   "source": [
    "# Exploring biopython"
   ]
  },
  {
   "cell_type": "markdown",
   "id": "numeric-tuner",
   "metadata": {},
   "source": [
    "## Reverse complement"
   ]
  },
  {
   "cell_type": "code",
   "execution_count": null,
   "id": "descending-bunch",
   "metadata": {},
   "outputs": [],
   "source": [
    "from Bio.Seq import reverse_complement, transcribe, translate\n",
    "rcseq = reverse_complement(\"GCTGTTATGGGTCGTTGGAAGGGTGGTCGTGCT\")\n",
    "print(\"\\nReverse complement:\\n{}\".format(rcseq))"
   ]
  },
  {
   "cell_type": "markdown",
   "id": "previous-proposal",
   "metadata": {},
   "source": [
    "## Calculating GC-content"
   ]
  },
  {
   "cell_type": "code",
   "execution_count": null,
   "id": "greater-dispute",
   "metadata": {},
   "outputs": [],
   "source": [
    "from Bio.SeqUtils import GC\n",
    "seq = \"GCTGTTATGGGTCGTTGGAAGGGTGGTCGTGCT\"\n",
    "print(\"\\nSequence:\\n{}\".format(seq))\n",
    "print(\"\\nGC content of seq:\\n{:0.1f}%\".format(GC(seq)))"
   ]
  },
  {
   "cell_type": "markdown",
   "id": "planned-witness",
   "metadata": {},
   "source": [
    "## Running www BLAST search"
   ]
  },
  {
   "cell_type": "code",
   "execution_count": null,
   "id": "contrary-money",
   "metadata": {},
   "outputs": [],
   "source": [
    "from Bio.Blast import NCBIWWW\n",
    "help(NCBIWWW.qblast)"
   ]
  },
  {
   "cell_type": "code",
   "execution_count": null,
   "id": "ethical-lender",
   "metadata": {},
   "outputs": [],
   "source": [
    "import os\n",
    "os.getcwd()\n",
    "f = open(\"cov2_test.fasta\", \"r\")\n",
    "print(f.read())"
   ]
  },
  {
   "cell_type": "code",
   "execution_count": null,
   "id": "powerful-delaware",
   "metadata": {},
   "outputs": [],
   "source": [
    "from Bio import SeqIO\n",
    "record = SeqIO.read(\"cov2_test.fasta\", format=\"fasta\")\n",
    "result_handle = NCBIWWW.qblast(\"blastn\",\"nt\",record.seq)"
   ]
  },
  {
   "cell_type": "markdown",
   "id": "entertaining-judge",
   "metadata": {},
   "source": [
    "We need to be a bit careful since we can use result_handle.read() to read the BLAST output only once. \\\n",
    "Calling result_handle.read() again returns an empty string"
   ]
  },
  {
   "cell_type": "code",
   "execution_count": null,
   "id": "overall-decade",
   "metadata": {},
   "outputs": [],
   "source": [
    "# Saving the blast result\n",
    "with open(\"my_blast.xml\", \"w\") as out_handle:\n",
    "    out_handle.write(result_handle.read())\n",
    "result_handle.close()"
   ]
  },
  {
   "cell_type": "markdown",
   "id": "cooperative-occupation",
   "metadata": {},
   "source": [
    "## Parsing BLAST output"
   ]
  },
  {
   "cell_type": "code",
   "execution_count": null,
   "id": "beginning-indian",
   "metadata": {},
   "outputs": [],
   "source": [
    "from Bio.Blast import NCBIXML\n",
    "result_handle = open(\"my_blast.xml\")"
   ]
  },
  {
   "cell_type": "code",
   "execution_count": null,
   "id": "driving-hours",
   "metadata": {},
   "outputs": [],
   "source": [
    "blast_record = NCBIXML.read(result_handle)\n",
    "for alignment in blast_record.alignments:\n",
    "    for hsp in alignment.hsps:\n",
    "        print(\"****Alignment****\")\n",
    "        print(\"sequence:\", alignment.title)\n",
    "        print(\"e value:\", hsp.expect)"
   ]
  },
  {
   "cell_type": "markdown",
   "id": "scientific-tomorrow",
   "metadata": {},
   "source": [
    "## GenBank file parsing"
   ]
  },
  {
   "cell_type": "markdown",
   "id": "prospective-minority",
   "metadata": {},
   "source": [
    "### First CDS feature in NC_005816.gb\n",
    "87..1109 \\\n",
    "/locus_tag=\"YP_RS22210\" \\\n",
    "/product=\"IS21-like element IS100 family transposase\" \\\n",
    "/protein_id=\"WP_000255944.1\" \\\n",
    "/translation=\"MVTF...RGVA\""
   ]
  },
  {
   "cell_type": "code",
   "execution_count": null,
   "id": "given-firmware",
   "metadata": {},
   "outputs": [],
   "source": [
    "from Bio import SeqIO\n",
    "record = SeqIO.read(\"NC_005816.gb\", \"genbank\")\n",
    "for feature in record.features:\n",
    "    if feature.type == \"CDS\":\n",
    "        print(\"Locus tag = {}\".format(feature.qualifiers.get(\"locus_tag\")))\n",
    "        print(\"Product = {}\\n\".format(feature.qualifiers.get(\"product\")))"
   ]
  },
  {
   "cell_type": "code",
   "execution_count": null,
   "id": "atomic-morrison",
   "metadata": {},
   "outputs": [],
   "source": []
  }
 ],
 "metadata": {
  "kernelspec": {
   "display_name": "Python 3 (ipykernel)",
   "language": "python",
   "name": "python3"
  },
  "language_info": {
   "codemirror_mode": {
    "name": "ipython",
    "version": 3
   },
   "file_extension": ".py",
   "mimetype": "text/x-python",
   "name": "python",
   "nbconvert_exporter": "python",
   "pygments_lexer": "ipython3",
   "version": "3.11.7"
  }
 },
 "nbformat": 4,
 "nbformat_minor": 5
}
