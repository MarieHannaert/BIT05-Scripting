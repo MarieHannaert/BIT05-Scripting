{
 "cells": [
  {
   "cell_type": "markdown",
   "metadata": {},
   "source": [
    "# Pandas"
   ]
  },
  {
   "cell_type": "code",
   "execution_count": null,
   "metadata": {},
   "outputs": [],
   "source": [
    "# Import module\n",
    "import pandas as pd"
   ]
  },
  {
   "cell_type": "code",
   "execution_count": null,
   "metadata": {},
   "outputs": [],
   "source": [
    "# Read csv \n",
    "df = pd.read_csv(\"https://vincentarelbundock.github.io/Rdatasets/csv/boot/urine.csv\")\n",
    "# Pandas can also read other data formats\n",
    "# pd.read_excel('file.xlsx',sheet_name='Sheet1', index_col=None, na_values=['NA'])"
   ]
  },
  {
   "cell_type": "code",
   "execution_count": null,
   "metadata": {},
   "outputs": [],
   "source": [
    "# List first 5 rows\n",
    "df.head(10)"
   ]
  },
  {
   "cell_type": "code",
   "execution_count": null,
   "metadata": {},
   "outputs": [],
   "source": [
    "print(\"Dimensions of data frame: {}\".format(df.shape))\n",
    "print(\"Column names: {}\".format(df.columns))"
   ]
  },
  {
   "cell_type": "code",
   "execution_count": null,
   "metadata": {},
   "outputs": [],
   "source": [
    "# Check data type of particular column\n",
    "print(\"Data type of r column: {}\".format(df['r'].dtype))\n",
    "print(\"Data type of gravity column: {}\".format(df['gravity'].dtype))"
   ]
  },
  {
   "cell_type": "code",
   "execution_count": null,
   "metadata": {},
   "outputs": [],
   "source": [
    "# Data type of all columns\n",
    "print(\"Data type of all columns:\\n{}\".format(df.dtypes))"
   ]
  },
  {
   "cell_type": "code",
   "execution_count": null,
   "metadata": {},
   "outputs": [],
   "source": [
    "# Basic statistics\n",
    "print(\"\\nMIN: \", df.min())\n",
    "print(\"\\nMAX: \", df[['calc']].max())\n",
    "print(\"\\nMEAN: \", df[['calc']].mean())\n",
    "print(\"\\nMEDIAN: \", df[['osmo']].median())\n",
    "print(\"\\nSTD: \", df[['osmo']].std())\n",
    "# Descriptive stats for numeric columns\n",
    "print(\"\\nDESCRIBE: \", df[['ph']].describe())"
   ]
  },
  {
   "cell_type": "code",
   "execution_count": null,
   "metadata": {},
   "outputs": [],
   "source": [
    "# Drop rows with missing values\n",
    "df_no_na = df.dropna()\n",
    "print(df_no_na.head(5))"
   ]
  },
  {
   "cell_type": "code",
   "execution_count": null,
   "metadata": {
    "scrolled": true
   },
   "outputs": [],
   "source": [
    "# Group data using r\n",
    "df_r = df.groupby(['r'])\n",
    "# Calculate mean calc for groups\n",
    "print(\"Means for r groups: {}\".format(df_r.mean()))"
   ]
  },
  {
   "cell_type": "code",
   "execution_count": null,
   "metadata": {},
   "outputs": [],
   "source": [
    "# Filter/subset data\n",
    "df_sub = df[ df['calc']>9 ]\n",
    "print(\"\\nSubset calc>9:\\n\", df_sub)\n",
    "print(\"\\nSubset calc column only:\\n\", df_sub['calc'])"
   ]
  },
  {
   "cell_type": "code",
   "execution_count": null,
   "metadata": {},
   "outputs": [],
   "source": [
    "# Select rows where r=1\n",
    "df_r1 = df[ df['r']==1 ]\n",
    "print(\"\\nRows where r=1:\\n\", df_r1)\n",
    "# Select and filter\n",
    "df_r1_calc4 = df[ (df['r']==1) & (df['calc']<4) ]\n",
    "print(\"\\nRows where r=1 and calc<4:\\n\", df_r1_calc4)"
   ]
  },
  {
   "cell_type": "code",
   "execution_count": null,
   "metadata": {
    "scrolled": true
   },
   "outputs": [],
   "source": [
    "# Selecting/slicing rows (first row position 0!)\n",
    "print(\"Rows 41-50: \", df[40:50])"
   ]
  },
  {
   "cell_type": "code",
   "execution_count": null,
   "metadata": {},
   "outputs": [],
   "source": [
    "# Select rows and columns with loc method\n",
    "df_loc = df.loc[40:50,['r','calc']]\n",
    "print(df_loc)"
   ]
  },
  {
   "cell_type": "code",
   "execution_count": null,
   "metadata": {},
   "outputs": [],
   "source": [
    "# Select rows and columns using positions with iloc method\n",
    "df_iloc = df.iloc[40:50,[1,3,7]]\n",
    "print(\"\\nMethod iloc:\\n\", df_iloc)\n",
    "# One column by position in df_r1_calc4 subset\n",
    "print(\"\\nColumn selection by position\\n\", df_r1_calc4[df_r1_calc4.columns[3]])\n",
    "print(\"\\nColumn selection 2 by position\\n\", df_r1_calc4.iloc[:,3])\n",
    "# Another example with iloc method\n",
    "df_iloc2 = df.iloc[[0,44,45,78], [1,3]]\n",
    "print(\"\\nAnother example of iloc:\\n\", df_iloc2)"
   ]
  },
  {
   "cell_type": "code",
   "execution_count": null,
   "metadata": {},
   "outputs": [],
   "source": [
    "# Sorted by column calc\n",
    "df_sorted = df.sort_values( by='calc', ascending=False)\n",
    "# df_sorted\n",
    "# shift+tab for doc\n",
    "# Last rows with tail()\n",
    "df_sorted.tail()"
   ]
  },
  {
   "cell_type": "markdown",
   "metadata": {},
   "source": [
    "# NumPY"
   ]
  },
  {
   "cell_type": "markdown",
   "metadata": {},
   "source": [
    "### NDARRAY OBJECT"
   ]
  },
  {
   "cell_type": "code",
   "execution_count": null,
   "metadata": {},
   "outputs": [],
   "source": [
    "# Import module\n",
    "import numpy as np\n",
    "\n",
    "# Create numpy array\n",
    "a = np.array([1,2,3]) \n",
    "print(\"\\n1D array:\\n\",a)\n",
    "\n",
    "# With more than one dimension \n",
    "b = np.array([[1, 2], [3, 4]]) \n",
    "print(\"\\n2D array:\\n\",b)\n",
    "\n",
    "# Set minimum dimensions\n",
    "c = np.array([1,2,3], ndmin = 2) \n",
    "print(\"\\nMin.dim.:\\n\",c)"
   ]
  },
  {
   "cell_type": "markdown",
   "metadata": {},
   "source": [
    "### NDARRAY SCALAR DATA TYPES (dtype)\n",
    "\n",
    "Different scalar data types defined in NumPy.\n",
    "\n",
    "NumPy numerical types are instances of dtype (data-type) object.\n",
    "\n",
    "The dtype object describes interpretation of fixed block of memory."
   ]
  },
  {
   "cell_type": "code",
   "execution_count": null,
   "metadata": {},
   "outputs": [],
   "source": [
    "# np.int8: -128 to 127\n",
    "x = np.int8([1,2,4])\n",
    "print(\"x (int8): {} --> type: {}\".format(x,type(x)))\n",
    "\n",
    "# np.float32\n",
    "y = np.float32(1.0)\n",
    "print(\"y (float32): \", y)\n",
    "\n",
    "# np_uint8 (unsigned long)\n",
    "z = np.arange(3, dtype=np.uint8)\n",
    "print(\"z (uint8): \", z)\n",
    "\n",
    "# Convert type using astype() method\n",
    "zf = z.astype(float) \n",
    "print(\"uint8 to float: \", zf)\n",
    "\n",
    "# To know/show dtype\n",
    "print(\"Type of z = {}\\nType of zf = {}\".format(z.dtype,zf.dtype))"
   ]
  },
  {
   "cell_type": "code",
   "execution_count": null,
   "metadata": {},
   "outputs": [],
   "source": [
    "# EXAMPLE 1: population data\n",
    "dt = np.dtype([('country', 'U20'), \n",
    "               ('density', 'i4'), \n",
    "               ('area', 'i4'), \n",
    "               ('population', 'i4')])\n",
    "# To use 32-bit signed integer: np.dtype('i4')\n",
    "# To use 64-bit floating-point number: np.dtype('f8')\n",
    "# To use actual strings in Python 3 use U or np.unicode\n",
    "# e.g. 25-character string: np.dtype('U20')\n",
    "\n",
    "# Create nparray with population data\n",
    "np_population = np.array([\n",
    "    ('Netherlands', 393, 41526, 16928800),\n",
    "    ('Belgium', 337, 30510, 11007020),\n",
    "    ('United Kingdom', 256, 243610, 62262000),\n",
    "    ('Germany', 233, 357021, 81799600),\n",
    "    ('Liechtenstein', 205, 160, 32842),\n",
    "    ('Italy', 192, 301230, 59715625),\n",
    "    ('Switzerland', 177, 41290, 7301994),\n",
    "    ('Luxembourg', 173, 2586, 512000),\n",
    "    ('France', 111, 547030, 63601002),\n",
    "    ('Austria', 97, 83858, 8169929),\n",
    "    ('Greece', 81, 131940, 11606813),\n",
    "    ('Ireland', 65, 70280, 4581269),\n",
    "    ('Sweden', 20, 449964, 9515744),\n",
    "    ('Finland', 16, 338424, 5410233),\n",
    "    ('Norway', 13, 385252, 5033675)],\n",
    "    dtype=dt)"
   ]
  },
  {
   "cell_type": "code",
   "execution_count": null,
   "metadata": {},
   "outputs": [],
   "source": [
    "# Show first 4 elements\n",
    "print(np_population[:4])\n",
    "\n",
    "# Iterate over ndarray with for loop\n",
    "for element in np_population:\n",
    "    print(\"\\nCountry: {} has population of {}\".format(element[0],element[3]))"
   ]
  },
  {
   "cell_type": "markdown",
   "metadata": {},
   "source": [
    "### NDARRAY ATTRIBUTES\n",
    "\n",
    "Array attributes reflect information about the array itself.\n",
    "\n",
    "Using its attributes you can get (and sometimes set) properties of array without creating a new array."
   ]
  },
  {
   "cell_type": "code",
   "execution_count": null,
   "metadata": {},
   "outputs": [],
   "source": [
    "# dtype\n",
    "print(\"DTYPE:\\n\", np_population.dtype)\n",
    "\n",
    "# Information about the memory layout of the array \n",
    "print(\"FLAGS:\\n\", np_population.flags)"
   ]
  },
  {
   "cell_type": "code",
   "execution_count": null,
   "metadata": {},
   "outputs": [],
   "source": [
    "# Number of array dimension\n",
    "print(\"NDIM:\\n\", np_population.ndim)\n",
    "\n",
    "# Tuple of array dimensions\n",
    "print(\"SHAPE:\\n\", np_population.shape)\n",
    "\n",
    "# Number of elements in array\n",
    "print(\"SIZE:\\n\", np_population.size)\n",
    "\n",
    "# Length of one array element in bytes\n",
    "print(\"ITEMSIZE:\\n\", np_population.itemsize)\n",
    "\n",
    "# Total bytes consumed by the elements of the array\n",
    "print(\"NBYTES:\\n\", np_population.nbytes)"
   ]
  },
  {
   "cell_type": "markdown",
   "metadata": {},
   "source": [
    "### NDARRAY METHODS"
   ]
  },
  {
   "cell_type": "code",
   "execution_count": null,
   "metadata": {},
   "outputs": [],
   "source": [
    "# Copy element of array to standard Python scalar and return it\n",
    "population_element = np_population[1]\n",
    "print(\"Second element from population ndarray:\\n\", population_element)\n",
    "    \n",
    "# Return array as a (possibly nested) list\n",
    "population_list = np_population.tolist()\n",
    "print(\"List:\\n\", population_list)\n",
    "\n",
    "# Insert scalar into array, last argument is item\n",
    "np_population.itemset(1, ('BELGIUM', 337, 30510, 11007020) )\n",
    "print(\"ndarray.itemset:\\n\", np_population[1])"
   ]
  },
  {
   "cell_type": "markdown",
   "metadata": {},
   "source": [
    "### BIOPYTHON"
   ]
  },
  {
   "cell_type": "code",
   "execution_count": 1,
   "metadata": {},
   "outputs": [],
   "source": [
    "#Import SeqIO from biopython \n",
    "from Bio import SeqIO"
   ]
  },
  {
   "cell_type": "code",
   "execution_count": 13,
   "metadata": {},
   "outputs": [
    {
     "ename": "NameError",
     "evalue": "name 'np' is not defined",
     "output_type": "error",
     "traceback": [
      "\u001b[0;31m---------------------------------------------------------------------------\u001b[0m",
      "\u001b[0;31mNameError\u001b[0m                                 Traceback (most recent call last)",
      "Cell \u001b[0;32mIn[13], line 11\u001b[0m\n\u001b[1;32m      8\u001b[0m     \u001b[38;5;28;01mreturn\u001b[39;00m frequency_matrix\n\u001b[1;32m     10\u001b[0m mm10_dna \u001b[38;5;241m=\u001b[39m \u001b[38;5;124m\"\u001b[39m\u001b[38;5;124mACACTCAACTGTTTTAGAAG\u001b[39m\u001b[38;5;124m\"\u001b[39m\n\u001b[0;32m---> 11\u001b[0m \u001b[38;5;28mprint\u001b[39m(\u001b[38;5;124m\"\u001b[39m\u001b[38;5;124mFrequences of mm10_dna:\u001b[39m\u001b[38;5;130;01m\\n\u001b[39;00m\u001b[38;5;124m\"\u001b[39m, \u001b[43mfreq_numpy\u001b[49m\u001b[43m(\u001b[49m\u001b[43mmm10_dna\u001b[49m\u001b[43m)\u001b[49m)\n",
      "Cell \u001b[0;32mIn[13], line 3\u001b[0m, in \u001b[0;36mfreq_numpy\u001b[0;34m(dna_list)\u001b[0m\n\u001b[1;32m      2\u001b[0m \u001b[38;5;28;01mdef\u001b[39;00m \u001b[38;5;21mfreq_numpy\u001b[39m(dna_list):\n\u001b[0;32m----> 3\u001b[0m     frequency_matrix \u001b[38;5;241m=\u001b[39m \u001b[43mnp\u001b[49m\u001b[38;5;241m.\u001b[39mzeros((\u001b[38;5;241m4\u001b[39m, \u001b[38;5;28mlen\u001b[39m(dna_list[\u001b[38;5;241m0\u001b[39m])), dtype\u001b[38;5;241m=\u001b[39mnp\u001b[38;5;241m.\u001b[39mint32)\n\u001b[1;32m      4\u001b[0m     base2index \u001b[38;5;241m=\u001b[39m {\u001b[38;5;124m'\u001b[39m\u001b[38;5;124mA\u001b[39m\u001b[38;5;124m'\u001b[39m: \u001b[38;5;241m0\u001b[39m, \u001b[38;5;124m'\u001b[39m\u001b[38;5;124mC\u001b[39m\u001b[38;5;124m'\u001b[39m: \u001b[38;5;241m1\u001b[39m, \u001b[38;5;124m'\u001b[39m\u001b[38;5;124mG\u001b[39m\u001b[38;5;124m'\u001b[39m: \u001b[38;5;241m2\u001b[39m, \u001b[38;5;124m'\u001b[39m\u001b[38;5;124mT\u001b[39m\u001b[38;5;124m'\u001b[39m: \u001b[38;5;241m3\u001b[39m}\n\u001b[1;32m      5\u001b[0m     \u001b[38;5;28;01mfor\u001b[39;00m dna \u001b[38;5;129;01min\u001b[39;00m dna_list:\n",
      "\u001b[0;31mNameError\u001b[0m: name 'np' is not defined"
     ]
    }
   ],
   "source": [
    "# Example 2: storing nucleotide frequencies in nparray\n",
    "def freq_numpy(dna_list):\n",
    "    frequency_matrix = np.zeros((4, len(dna_list[0])), dtype=np.int32)\n",
    "    base2index = {'A': 0, 'C': 1, 'G': 2, 'T': 3}\n",
    "    for dna in dna_list:\n",
    "        for index, base in enumerate(dna):\n",
    "            frequency_matrix[base2index[base]][index] += 1\n",
    "    return frequency_matrix\n",
    "\n",
    "mm10_dna = \"ACACTCAACTGTTTTAGAAG\"\n",
    "print(\"Frequences of mm10_dna:\\n\", freq_numpy(mm10_dna))"
   ]
  },
  {
   "cell_type": "code",
   "execution_count": 12,
   "metadata": {},
   "outputs": [
    {
     "name": "stdout",
     "output_type": "stream",
     "text": [
      "\n",
      "Length of mm10_dna.fasta:  31743\n"
     ]
    },
    {
     "ename": "NameError",
     "evalue": "name 'np' is not defined",
     "output_type": "error",
     "traceback": [
      "\u001b[0;31m---------------------------------------------------------------------------\u001b[0m",
      "\u001b[0;31mNameError\u001b[0m                                 Traceback (most recent call last)",
      "Cell \u001b[0;32mIn[12], line 9\u001b[0m\n\u001b[1;32m      7\u001b[0m     \u001b[38;5;28mprint\u001b[39m(\u001b[38;5;124m\"\u001b[39m\u001b[38;5;130;01m\\n\u001b[39;00m\u001b[38;5;124mLength of mm10_dna.fasta: \u001b[39m\u001b[38;5;124m\"\u001b[39m, \u001b[38;5;28mlen\u001b[39m(seq_record))\n\u001b[1;32m      8\u001b[0m     \u001b[38;5;66;03m# Calculate frequencies\u001b[39;00m\n\u001b[0;32m----> 9\u001b[0m     \u001b[38;5;28mprint\u001b[39m(\u001b[38;5;124m\"\u001b[39m\u001b[38;5;130;01m\\n\u001b[39;00m\u001b[38;5;124mFrequencies:\u001b[39m\u001b[38;5;130;01m\\n\u001b[39;00m\u001b[38;5;124m\"\u001b[39m, \u001b[43mfreq_numpy\u001b[49m\u001b[43m(\u001b[49m\u001b[43mseq_record\u001b[49m\u001b[43m)\u001b[49m)\n\u001b[1;32m     10\u001b[0m fasta_file\u001b[38;5;241m.\u001b[39mclose()\n",
      "Cell \u001b[0;32mIn[11], line 3\u001b[0m, in \u001b[0;36mfreq_numpy\u001b[0;34m(dna_list)\u001b[0m\n\u001b[1;32m      2\u001b[0m \u001b[38;5;28;01mdef\u001b[39;00m \u001b[38;5;21mfreq_numpy\u001b[39m(dna_list):\n\u001b[0;32m----> 3\u001b[0m     frequency_matrix \u001b[38;5;241m=\u001b[39m \u001b[43mnp\u001b[49m\u001b[38;5;241m.\u001b[39mzeros((\u001b[38;5;241m4\u001b[39m, \u001b[38;5;28mlen\u001b[39m(dna_list[\u001b[38;5;241m0\u001b[39m])), dtype\u001b[38;5;241m=\u001b[39mnp\u001b[38;5;241m.\u001b[39mint32)\n\u001b[1;32m      4\u001b[0m     base2index \u001b[38;5;241m=\u001b[39m {\u001b[38;5;124m'\u001b[39m\u001b[38;5;124mA\u001b[39m\u001b[38;5;124m'\u001b[39m: \u001b[38;5;241m0\u001b[39m, \u001b[38;5;124m'\u001b[39m\u001b[38;5;124mC\u001b[39m\u001b[38;5;124m'\u001b[39m: \u001b[38;5;241m1\u001b[39m, \u001b[38;5;124m'\u001b[39m\u001b[38;5;124mG\u001b[39m\u001b[38;5;124m'\u001b[39m: \u001b[38;5;241m2\u001b[39m, \u001b[38;5;124m'\u001b[39m\u001b[38;5;124mT\u001b[39m\u001b[38;5;124m'\u001b[39m: \u001b[38;5;241m3\u001b[39m}\n\u001b[1;32m      5\u001b[0m     \u001b[38;5;28;01mfor\u001b[39;00m dna \u001b[38;5;129;01min\u001b[39;00m dna_list:\n",
      "\u001b[0;31mNameError\u001b[0m: name 'np' is not defined"
     ]
    }
   ],
   "source": [
    "# Import SeqIO from biopython\n",
    "from Bio import SeqIO\n",
    "# Fasta file from Leho in jupyter notebook folder\n",
    "fasta_file = open(\"mm10_dna.fasta\",\"r\")\n",
    "for seq_record in SeqIO.parse(fasta_file, \"fasta\"):\n",
    "    # Get length of fasta record\n",
    "    print(\"\\nLength of mm10_dna.fasta: \", len(seq_record))\n",
    "    # Calculate frequencies\n",
    "    print(\"\\nFrequencies:\\n\", freq_numpy(seq_record))\n",
    "fasta_file.close()"
   ]
  },
  {
   "cell_type": "code",
   "execution_count": null,
   "metadata": {},
   "outputs": [],
   "source": []
  },
  {
   "cell_type": "code",
   "execution_count": null,
   "metadata": {},
   "outputs": [],
   "source": []
  },
  {
   "cell_type": "code",
   "execution_count": null,
   "metadata": {},
   "outputs": [],
   "source": []
  }
 ],
 "metadata": {
  "kernelspec": {
   "display_name": "Python 3 (ipykernel)",
   "language": "python",
   "name": "python3"
  },
  "language_info": {
   "codemirror_mode": {
    "name": "ipython",
    "version": 3
   },
   "file_extension": ".py",
   "mimetype": "text/x-python",
   "name": "python",
   "nbconvert_exporter": "python",
   "pygments_lexer": "ipython3",
   "version": "3.11.6"
  }
 },
 "nbformat": 4,
 "nbformat_minor": 4
}
