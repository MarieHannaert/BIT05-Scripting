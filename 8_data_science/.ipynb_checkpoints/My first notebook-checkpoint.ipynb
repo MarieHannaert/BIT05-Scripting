{
 "cells": [
  {
   "cell_type": "markdown",
   "metadata": {},
   "source": [
    "# Title of your first notebook\n",
    "*Author: Paco Hulpiau*\n",
    "\n",
    "This first notebook introduces Jupyter notebooks in the Python scripting course"
   ]
  },
  {
   "cell_type": "code",
   "execution_count": 4,
   "metadata": {},
   "outputs": [
    {
     "name": "stdout",
     "output_type": "stream",
     "text": [
      "HOSTNAME:  localhost.localdomain\n",
      "USERNAME:  pacoh\n",
      "HOME DIR:  /home/pacoh\n",
      "LANGUAGE:  en_US.UTF-8\n",
      "PATH VAR:  /home/pacoh/.local/bin:/home/pacoh/.local/bin:/home/pacoh/bin:/home/pacoh/.local/bin:/home/pacoh/bin:/usr/share/Modules/bin:/usr/local/bin:/usr/local/sbin:/usr/bin:/usr/sbin:/home/pacoh/.composer/vendor/bin\n"
     ]
    }
   ],
   "source": [
    "# Example-code-5-1\n",
    "import os\n",
    "# Some envirnoment variables\n",
    "hostname = os.environ['HOSTNAME']\n",
    "print(\"HOSTNAME: \", hostname)\n",
    "print(\"USERNAME: \", os.environ['USERNAME'])\n",
    "print(\"HOME DIR: \", os.environ['HOME'])\n",
    "print(\"LANGUAGE: \", os.environ['LANG'])\n",
    "print(\"PATH VAR: \", os.environ['PATH'])"
   ]
  },
  {
   "cell_type": "code",
   "execution_count": 5,
   "metadata": {},
   "outputs": [
    {
     "data": {
      "text/plain": [
       "'/home/pacoh'"
      ]
     },
     "execution_count": 5,
     "metadata": {},
     "output_type": "execute_result"
    }
   ],
   "source": [
    "os.environ['USERNAME']\n",
    "os.environ['HOME']"
   ]
  },
  {
   "cell_type": "code",
   "execution_count": 9,
   "metadata": {},
   "outputs": [
    {
     "name": "stdout",
     "output_type": "stream",
     "text": [
      "Package                       Version \r\n",
      "----------------------------- --------\r\n",
      "astroid                       1.6.5   \r\n",
      "backports.functools-lru-cache 1.5     \r\n",
      "beautifulsoup4                4.6.3   \r\n",
      "configparser                  3.5.0   \r\n",
      "cssselect                     0.9.2   \r\n",
      "cycler                        0.10.0  \r\n",
      "enum34                        1.1.6   \r\n",
      "futures                       3.2.0   \r\n",
      "gpg                           1.12.0  \r\n",
      "html5lib                      1.0.1   \r\n",
      "imutils                       0.5.1   \r\n",
      "isort                         4.3.4   \r\n",
      "kiwisolver                    1.0.1   \r\n",
      "lazy-object-proxy             1.3.1   \r\n",
      "lxml                          4.2.5   \r\n",
      "matplotlib                    2.2.3   \r\n",
      "mccabe                        0.6.1   \r\n",
      "nose                          1.3.7   \r\n",
      "numpy                         1.15.1  \r\n",
      "olefile                       0.46    \r\n",
      "opencv-python                 3.4.4.19\r\n",
      "Pillow                        5.3.0   \r\n",
      "pip                           18.1    \r\n",
      "psutil                        5.4.3   \r\n",
      "pycairo                       1.17.1  \r\n",
      "PyGObject                     3.30.4  \r\n",
      "pylint                        1.9.3   \r\n",
      "pyparsing                     2.3.1   \r\n",
      "PyPDF2                        1.26.0  \r\n",
      "python-dateutil               2.7.5   \r\n",
      "pytz                          2018.9  \r\n",
      "reportlab                     3.4.0   \r\n",
      "scour                         0.37    \r\n",
      "setuptools                    40.4.3  \r\n",
      "singledispatch                3.4.0.3 \r\n",
      "sip                           4.19.13 \r\n",
      "six                           1.11.0  \r\n",
      "subprocess32                  3.5.3   \r\n",
      "terminator                    1.91    \r\n",
      "tesserocr                     2.3.1   \r\n",
      "uniconvertor                  2.0     \r\n",
      "webencodings                  0.5.1   \r\n",
      "wrapt                         1.10.11 \r\n"
     ]
    }
   ],
   "source": [
    "!pip list"
   ]
  },
  {
   "cell_type": "code",
   "execution_count": 10,
   "metadata": {},
   "outputs": [
    {
     "name": "stdout",
     "output_type": "stream",
     "text": [
      "/home/pacoh/Dropbox/howest/BIT04-R/urine.csv\r\n",
      "/home/pacoh/Dropbox/howest/BIT04-R/Rdatasets1/urine.csv\r\n",
      "/home/pacoh/Dropbox/howest/PAPERS_COURSES/datasets/urine.csv\r\n",
      "/home/pacoh/Dropbox/howest/PYTHON/urine.csv\r\n",
      "/home/pacoh/Dropbox/howest/RESULTS/urine.csv\r\n",
      "/home/pacoh/Dropbox/howest/RESULTS/Rscripts/urine.csv\r\n",
      "/home/pacoh/Dropbox/howest/RESULTS/Rscripts/urine.csv:Zone.Identifier\r\n",
      "/home/pacoh/Dropbox/howest/RESULTS/Rscripts/urine.csv:Zone.Identifier:$DATA\r\n"
     ]
    }
   ],
   "source": [
    "!locate urine.csv"
   ]
  },
  {
   "cell_type": "code",
   "execution_count": 11,
   "metadata": {},
   "outputs": [
    {
     "data": {
      "application/json": {
       "cell": {
        "!": "OSMagics",
        "HTML": "Other",
        "SVG": "Other",
        "bash": "Other",
        "capture": "ExecutionMagics",
        "debug": "ExecutionMagics",
        "file": "Other",
        "html": "DisplayMagics",
        "javascript": "DisplayMagics",
        "js": "DisplayMagics",
        "latex": "DisplayMagics",
        "markdown": "DisplayMagics",
        "perl": "Other",
        "prun": "ExecutionMagics",
        "pypy": "Other",
        "python": "Other",
        "python2": "Other",
        "python3": "Other",
        "ruby": "Other",
        "script": "ScriptMagics",
        "sh": "Other",
        "svg": "DisplayMagics",
        "sx": "OSMagics",
        "system": "OSMagics",
        "time": "ExecutionMagics",
        "timeit": "ExecutionMagics",
        "writefile": "OSMagics"
       },
       "line": {
        "alias": "OSMagics",
        "alias_magic": "BasicMagics",
        "autoawait": "AsyncMagics",
        "autocall": "AutoMagics",
        "automagic": "AutoMagics",
        "autosave": "KernelMagics",
        "bookmark": "OSMagics",
        "cat": "Other",
        "cd": "OSMagics",
        "clear": "KernelMagics",
        "colors": "BasicMagics",
        "conda": "PackagingMagics",
        "config": "ConfigMagics",
        "connect_info": "KernelMagics",
        "cp": "Other",
        "debug": "ExecutionMagics",
        "dhist": "OSMagics",
        "dirs": "OSMagics",
        "doctest_mode": "BasicMagics",
        "ed": "Other",
        "edit": "KernelMagics",
        "env": "OSMagics",
        "gui": "BasicMagics",
        "hist": "Other",
        "history": "HistoryMagics",
        "killbgscripts": "ScriptMagics",
        "ldir": "Other",
        "less": "KernelMagics",
        "lf": "Other",
        "lk": "Other",
        "ll": "Other",
        "load": "CodeMagics",
        "load_ext": "ExtensionMagics",
        "loadpy": "CodeMagics",
        "logoff": "LoggingMagics",
        "logon": "LoggingMagics",
        "logstart": "LoggingMagics",
        "logstate": "LoggingMagics",
        "logstop": "LoggingMagics",
        "ls": "Other",
        "lsmagic": "BasicMagics",
        "lx": "Other",
        "macro": "ExecutionMagics",
        "magic": "BasicMagics",
        "man": "KernelMagics",
        "matplotlib": "PylabMagics",
        "mkdir": "Other",
        "more": "KernelMagics",
        "mv": "Other",
        "notebook": "BasicMagics",
        "page": "BasicMagics",
        "pastebin": "CodeMagics",
        "pdb": "ExecutionMagics",
        "pdef": "NamespaceMagics",
        "pdoc": "NamespaceMagics",
        "pfile": "NamespaceMagics",
        "pinfo": "NamespaceMagics",
        "pinfo2": "NamespaceMagics",
        "pip": "PackagingMagics",
        "popd": "OSMagics",
        "pprint": "BasicMagics",
        "precision": "BasicMagics",
        "prun": "ExecutionMagics",
        "psearch": "NamespaceMagics",
        "psource": "NamespaceMagics",
        "pushd": "OSMagics",
        "pwd": "OSMagics",
        "pycat": "OSMagics",
        "pylab": "PylabMagics",
        "qtconsole": "KernelMagics",
        "quickref": "BasicMagics",
        "recall": "HistoryMagics",
        "rehashx": "OSMagics",
        "reload_ext": "ExtensionMagics",
        "rep": "Other",
        "rerun": "HistoryMagics",
        "reset": "NamespaceMagics",
        "reset_selective": "NamespaceMagics",
        "rm": "Other",
        "rmdir": "Other",
        "run": "ExecutionMagics",
        "save": "CodeMagics",
        "sc": "OSMagics",
        "set_env": "OSMagics",
        "store": "StoreMagics",
        "sx": "OSMagics",
        "system": "OSMagics",
        "tb": "ExecutionMagics",
        "time": "ExecutionMagics",
        "timeit": "ExecutionMagics",
        "unalias": "OSMagics",
        "unload_ext": "ExtensionMagics",
        "who": "NamespaceMagics",
        "who_ls": "NamespaceMagics",
        "whos": "NamespaceMagics",
        "xdel": "NamespaceMagics",
        "xmode": "BasicMagics"
       }
      },
      "text/plain": [
       "Available line magics:\n",
       "%alias  %alias_magic  %autoawait  %autocall  %automagic  %autosave  %bookmark  %cat  %cd  %clear  %colors  %conda  %config  %connect_info  %cp  %debug  %dhist  %dirs  %doctest_mode  %ed  %edit  %env  %gui  %hist  %history  %killbgscripts  %ldir  %less  %lf  %lk  %ll  %load  %load_ext  %loadpy  %logoff  %logon  %logstart  %logstate  %logstop  %ls  %lsmagic  %lx  %macro  %magic  %man  %matplotlib  %mkdir  %more  %mv  %notebook  %page  %pastebin  %pdb  %pdef  %pdoc  %pfile  %pinfo  %pinfo2  %pip  %popd  %pprint  %precision  %prun  %psearch  %psource  %pushd  %pwd  %pycat  %pylab  %qtconsole  %quickref  %recall  %rehashx  %reload_ext  %rep  %rerun  %reset  %reset_selective  %rm  %rmdir  %run  %save  %sc  %set_env  %store  %sx  %system  %tb  %time  %timeit  %unalias  %unload_ext  %who  %who_ls  %whos  %xdel  %xmode\n",
       "\n",
       "Available cell magics:\n",
       "%%!  %%HTML  %%SVG  %%bash  %%capture  %%debug  %%file  %%html  %%javascript  %%js  %%latex  %%markdown  %%perl  %%prun  %%pypy  %%python  %%python2  %%python3  %%ruby  %%script  %%sh  %%svg  %%sx  %%system  %%time  %%timeit  %%writefile\n",
       "\n",
       "Automagic is ON, % prefix IS NOT needed for line magics."
      ]
     },
     "execution_count": 11,
     "metadata": {},
     "output_type": "execute_result"
    }
   ],
   "source": [
    "%lsmagic"
   ]
  }
 ],
 "metadata": {
  "kernelspec": {
   "display_name": "Python 3",
   "language": "python",
   "name": "python3"
  },
  "language_info": {
   "codemirror_mode": {
    "name": "ipython",
    "version": 3
   },
   "file_extension": ".py",
   "mimetype": "text/x-python",
   "name": "python",
   "nbconvert_exporter": "python",
   "pygments_lexer": "ipython3",
   "version": "3.7.2"
  }
 },
 "nbformat": 4,
 "nbformat_minor": 2
}
