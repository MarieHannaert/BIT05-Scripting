{
 "cells": [
  {
   "cell_type": "markdown",
   "metadata": {},
   "source": [
    "# Pandas"
   ]
  },
  {
   "cell_type": "code",
   "execution_count": 1,
   "metadata": {},
   "outputs": [],
   "source": [
    "# Import module\n",
    "import pandas as pd"
   ]
  },
  {
   "cell_type": "code",
   "execution_count": 2,
   "metadata": {},
   "outputs": [],
   "source": [
    "# Read csv \n",
    "df = pd.read_csv(\"https://vincentarelbundock.github.io/Rdatasets/csv/boot/urine.csv\")\n",
    "# Pandas can also read other data formats\n",
    "# pd.read_excel('file.xlsx',sheet_name='Sheet1', index_col=None, na_values=['NA'])"
   ]
  },
  {
   "cell_type": "code",
   "execution_count": 4,
   "metadata": {},
   "outputs": [
    {
     "data": {
      "text/html": [
       "<div>\n",
       "<style scoped>\n",
       "    .dataframe tbody tr th:only-of-type {\n",
       "        vertical-align: middle;\n",
       "    }\n",
       "\n",
       "    .dataframe tbody tr th {\n",
       "        vertical-align: top;\n",
       "    }\n",
       "\n",
       "    .dataframe thead th {\n",
       "        text-align: right;\n",
       "    }\n",
       "</style>\n",
       "<table border=\"1\" class=\"dataframe\">\n",
       "  <thead>\n",
       "    <tr style=\"text-align: right;\">\n",
       "      <th></th>\n",
       "      <th>rownames</th>\n",
       "      <th>r</th>\n",
       "      <th>gravity</th>\n",
       "      <th>ph</th>\n",
       "      <th>osmo</th>\n",
       "      <th>cond</th>\n",
       "      <th>urea</th>\n",
       "      <th>calc</th>\n",
       "    </tr>\n",
       "  </thead>\n",
       "  <tbody>\n",
       "    <tr>\n",
       "      <th>0</th>\n",
       "      <td>1</td>\n",
       "      <td>0</td>\n",
       "      <td>1.021</td>\n",
       "      <td>4.91</td>\n",
       "      <td>725.0</td>\n",
       "      <td>NaN</td>\n",
       "      <td>443</td>\n",
       "      <td>2.45</td>\n",
       "    </tr>\n",
       "    <tr>\n",
       "      <th>1</th>\n",
       "      <td>2</td>\n",
       "      <td>0</td>\n",
       "      <td>1.017</td>\n",
       "      <td>5.74</td>\n",
       "      <td>577.0</td>\n",
       "      <td>20.0</td>\n",
       "      <td>296</td>\n",
       "      <td>4.49</td>\n",
       "    </tr>\n",
       "    <tr>\n",
       "      <th>2</th>\n",
       "      <td>3</td>\n",
       "      <td>0</td>\n",
       "      <td>1.008</td>\n",
       "      <td>7.20</td>\n",
       "      <td>321.0</td>\n",
       "      <td>14.9</td>\n",
       "      <td>101</td>\n",
       "      <td>2.36</td>\n",
       "    </tr>\n",
       "    <tr>\n",
       "      <th>3</th>\n",
       "      <td>4</td>\n",
       "      <td>0</td>\n",
       "      <td>1.011</td>\n",
       "      <td>5.51</td>\n",
       "      <td>408.0</td>\n",
       "      <td>12.6</td>\n",
       "      <td>224</td>\n",
       "      <td>2.15</td>\n",
       "    </tr>\n",
       "    <tr>\n",
       "      <th>4</th>\n",
       "      <td>5</td>\n",
       "      <td>0</td>\n",
       "      <td>1.005</td>\n",
       "      <td>6.52</td>\n",
       "      <td>187.0</td>\n",
       "      <td>7.5</td>\n",
       "      <td>91</td>\n",
       "      <td>1.16</td>\n",
       "    </tr>\n",
       "  </tbody>\n",
       "</table>\n",
       "</div>"
      ],
      "text/plain": [
       "   rownames  r  gravity    ph   osmo  cond  urea  calc\n",
       "0         1  0    1.021  4.91  725.0   NaN   443  2.45\n",
       "1         2  0    1.017  5.74  577.0  20.0   296  4.49\n",
       "2         3  0    1.008  7.20  321.0  14.9   101  2.36\n",
       "3         4  0    1.011  5.51  408.0  12.6   224  2.15\n",
       "4         5  0    1.005  6.52  187.0   7.5    91  1.16"
      ]
     },
     "execution_count": 4,
     "metadata": {},
     "output_type": "execute_result"
    }
   ],
   "source": [
    "# List first 5 rows\n",
    "df.head(5)"
   ]
  },
  {
   "cell_type": "code",
   "execution_count": 5,
   "metadata": {},
   "outputs": [
    {
     "name": "stdout",
     "output_type": "stream",
     "text": [
      "Dimensions of data frame: (79, 8)\n",
      "Column names: Index(['rownames', 'r', 'gravity', 'ph', 'osmo', 'cond', 'urea', 'calc'], dtype='object')\n"
     ]
    }
   ],
   "source": [
    "print(\"Dimensions of data frame: {}\".format(df.shape))\n",
    "print(\"Column names: {}\".format(df.columns))"
   ]
  },
  {
   "cell_type": "code",
   "execution_count": 6,
   "metadata": {},
   "outputs": [
    {
     "name": "stdout",
     "output_type": "stream",
     "text": [
      "Data type of r column: int64\n",
      "Data type of gravity column: float64\n"
     ]
    }
   ],
   "source": [
    "# Check data type of particular column\n",
    "print(\"Data type of r column: {}\".format(df['r'].dtype))\n",
    "print(\"Data type of gravity column: {}\".format(df['gravity'].dtype))"
   ]
  },
  {
   "cell_type": "code",
   "execution_count": 7,
   "metadata": {},
   "outputs": [
    {
     "name": "stdout",
     "output_type": "stream",
     "text": [
      "Data type of all columns:\n",
      "rownames      int64\n",
      "r             int64\n",
      "gravity     float64\n",
      "ph          float64\n",
      "osmo        float64\n",
      "cond        float64\n",
      "urea          int64\n",
      "calc        float64\n",
      "dtype: object\n"
     ]
    }
   ],
   "source": [
    "# Data type of all columns\n",
    "print(\"Data type of all columns:\\n{}\".format(df.dtypes))"
   ]
  },
  {
   "cell_type": "code",
   "execution_count": 7,
   "metadata": {},
   "outputs": [
    {
     "name": "stdout",
     "output_type": "stream",
     "text": [
      "\n",
      "MIN:  rownames      1.000\n",
      "r             0.000\n",
      "gravity       1.005\n",
      "ph            4.760\n",
      "osmo        187.000\n",
      "cond          5.100\n",
      "urea         10.000\n",
      "calc          0.170\n",
      "dtype: float64\n",
      "\n",
      "MAX:  calc    14.34\n",
      "dtype: float64\n",
      "\n",
      "MEAN:  calc    4.138987\n",
      "dtype: float64\n",
      "\n",
      "MEDIAN:  osmo    612.5\n",
      "dtype: float64\n",
      "\n",
      "STD:  osmo    238.247685\n",
      "dtype: float64\n",
      "\n",
      "DESCRIBE:                ph\n",
      "count  79.000000\n",
      "mean    6.028481\n",
      "std     0.724307\n",
      "min     4.760000\n",
      "25%     5.530000\n",
      "50%     5.940000\n",
      "75%     6.385000\n",
      "max     7.940000\n"
     ]
    }
   ],
   "source": [
    "# Basic statistics\n",
    "print(\"\\nMIN: \", df.min())\n",
    "print(\"\\nMAX: \", df[['calc']].max())\n",
    "print(\"\\nMEAN: \", df[['calc']].mean())\n",
    "print(\"\\nMEDIAN: \", df[['osmo']].median())\n",
    "print(\"\\nSTD: \", df[['osmo']].std())\n",
    "# Descriptive stats for numeric columns\n",
    "print(\"\\nDESCRIBE: \", df[['ph']].describe())"
   ]
  },
  {
   "cell_type": "code",
   "execution_count": 8,
   "metadata": {},
   "outputs": [
    {
     "name": "stdout",
     "output_type": "stream",
     "text": [
      "   rownames  r  gravity    ph   osmo  cond  urea  calc\n",
      "1         2  0    1.017  5.74  577.0  20.0   296  4.49\n",
      "2         3  0    1.008  7.20  321.0  14.9   101  2.36\n",
      "3         4  0    1.011  5.51  408.0  12.6   224  2.15\n",
      "4         5  0    1.005  6.52  187.0   7.5    91  1.16\n",
      "5         6  0    1.020  5.27  668.0  25.3   252  3.34\n"
     ]
    }
   ],
   "source": [
    "# Drop rows with missing values\n",
    "df_no_na = df.dropna()\n",
    "print(df_no_na.head(5))"
   ]
  },
  {
   "cell_type": "code",
   "execution_count": 9,
   "metadata": {
    "scrolled": true
   },
   "outputs": [
    {
     "name": "stdout",
     "output_type": "stream",
     "text": [
      "Means for r groups:    rownames   gravity        ph        osmo       cond        urea      calc\n",
      "r                                                                           \n",
      "0      23.0  1.015489  6.098667  565.288889  20.550000  237.111111  2.624889\n",
      "1      62.5  1.021588  5.935588  682.878788  21.355882  305.176471  6.142941\n"
     ]
    }
   ],
   "source": [
    "# Group data using r\n",
    "df_r = df.groupby(['r'])\n",
    "# Calculate mean calc for groups\n",
    "print(\"Means for r groups: {}\".format(df_r.mean()))"
   ]
  },
  {
   "cell_type": "code",
   "execution_count": 10,
   "metadata": {},
   "outputs": [
    {
     "name": "stdout",
     "output_type": "stream",
     "text": [
      "\n",
      "Subset calc>9:\n",
      "     rownames  r  gravity    ph    osmo  cond  urea   calc\n",
      "46        47  1    1.024  5.77   698.0  19.5   354  13.00\n",
      "50        51  1    1.026  5.16   822.0  26.0   301  14.34\n",
      "62        63  1    1.034  5.24  1236.0  27.3   620  12.68\n",
      "74        75  1    1.025  7.90   721.0  23.6   301   9.04\n",
      "77        78  1    1.016  6.81   594.0  21.4   255  12.20\n",
      "78        79  1    1.015  6.03   416.0  12.8   178   9.39\n",
      "\n",
      "Subset calc column only:\n",
      " 46    13.00\n",
      "50    14.34\n",
      "62    12.68\n",
      "74     9.04\n",
      "77    12.20\n",
      "78     9.39\n",
      "Name: calc, dtype: float64\n"
     ]
    }
   ],
   "source": [
    "# Filter/subset data\n",
    "df_sub = df[ df['calc']>9 ]\n",
    "print(\"\\nSubset calc>9:\\n\", df_sub)\n",
    "print(\"\\nSubset calc column only:\\n\", df_sub['calc'])"
   ]
  },
  {
   "cell_type": "code",
   "execution_count": 11,
   "metadata": {},
   "outputs": [
    {
     "name": "stdout",
     "output_type": "stream",
     "text": [
      "\n",
      "Rows where r=1:\n",
      "     rownames  r  gravity    ph    osmo  cond  urea   calc\n",
      "45        46  1    1.021  5.94   774.0  27.9   325   6.96\n",
      "46        47  1    1.024  5.77   698.0  19.5   354  13.00\n",
      "47        48  1    1.024  5.60   866.0  29.5   360   5.54\n",
      "48        49  1    1.021  5.53   775.0  31.2   302   6.19\n",
      "49        50  1    1.024  5.36   853.0  27.6   364   7.31\n",
      "50        51  1    1.026  5.16   822.0  26.0   301  14.34\n",
      "51        52  1    1.013  5.86   531.0  21.4   197   4.74\n",
      "52        53  1    1.010  6.27   371.0  11.2   188   2.50\n",
      "53        54  1    1.011  7.01   443.0  21.4   124   1.27\n",
      "54        55  1    1.022  6.21     NaN  20.6   398   4.18\n",
      "55        56  1    1.011  6.13   364.0  10.9   159   3.10\n",
      "56        57  1    1.031  5.73   874.0  17.4   516   3.01\n",
      "57        58  1    1.020  7.94   567.0  19.7   212   6.81\n",
      "58        59  1    1.040  6.28   838.0  14.3   486   8.28\n",
      "59        60  1    1.021  5.56   658.0  23.6   224   2.33\n",
      "60        61  1    1.025  5.71   854.0  27.0   385   7.18\n",
      "61        62  1    1.026  6.19   956.0  27.6   473   5.67\n",
      "62        63  1    1.034  5.24  1236.0  27.3   620  12.68\n",
      "63        64  1    1.033  5.58  1032.0  29.1   430   8.94\n",
      "64        65  1    1.015  5.98   487.0  14.8   198   3.16\n",
      "65        66  1    1.013  5.58   516.0  20.8   184   3.30\n",
      "66        67  1    1.014  5.90   456.0  17.8   164   6.99\n",
      "67        68  1    1.012  6.75   251.0   5.1   141   0.65\n",
      "68        69  1    1.025  6.90   945.0  33.6   396   4.18\n",
      "69        70  1    1.026  6.29   833.0  22.2   457   4.45\n",
      "70        71  1    1.028  4.76   312.0  12.4    10   0.27\n",
      "71        72  1    1.027  5.40   840.0  24.5   395   7.64\n",
      "72        73  1    1.018  5.14   703.0  29.0   272   6.63\n",
      "73        74  1    1.022  5.09   736.0  19.8   418   8.53\n",
      "74        75  1    1.025  7.90   721.0  23.6   301   9.04\n",
      "75        76  1    1.017  4.81   410.0  13.3   195   0.58\n",
      "76        77  1    1.024  5.40   803.0  21.8   394   7.82\n",
      "77        78  1    1.016  6.81   594.0  21.4   255  12.20\n",
      "78        79  1    1.015  6.03   416.0  12.8   178   9.39\n",
      "\n",
      "Rows where r=1 and calc<4:\n",
      "     rownames  r  gravity    ph   osmo  cond  urea  calc\n",
      "52        53  1    1.010  6.27  371.0  11.2   188  2.50\n",
      "53        54  1    1.011  7.01  443.0  21.4   124  1.27\n",
      "55        56  1    1.011  6.13  364.0  10.9   159  3.10\n",
      "56        57  1    1.031  5.73  874.0  17.4   516  3.01\n",
      "59        60  1    1.021  5.56  658.0  23.6   224  2.33\n",
      "64        65  1    1.015  5.98  487.0  14.8   198  3.16\n",
      "65        66  1    1.013  5.58  516.0  20.8   184  3.30\n",
      "67        68  1    1.012  6.75  251.0   5.1   141  0.65\n",
      "70        71  1    1.028  4.76  312.0  12.4    10  0.27\n",
      "75        76  1    1.017  4.81  410.0  13.3   195  0.58\n"
     ]
    }
   ],
   "source": [
    "# Select rows where r=1\n",
    "df_r1 = df[ df['r']==1 ]\n",
    "print(\"\\nRows where r=1:\\n\", df_r1)\n",
    "# Select and filter\n",
    "df_r1_calc4 = df[ (df['r']==1) & (df['calc']<4) ]\n",
    "print(\"\\nRows where r=1 and calc<4:\\n\", df_r1_calc4)"
   ]
  },
  {
   "cell_type": "code",
   "execution_count": 12,
   "metadata": {
    "scrolled": true
   },
   "outputs": [
    {
     "name": "stdout",
     "output_type": "stream",
     "text": [
      "Rows 41-50:      rownames  r  gravity    ph   osmo  cond  urea   calc\n",
      "40        41  0    1.021  5.33  815.0  26.0   385   2.66\n",
      "41        42  0    1.009  5.64  386.0  17.7   104   1.22\n",
      "42        43  0    1.015  6.79  541.0  20.9   187   2.64\n",
      "43        44  0    1.010  5.97  343.0  13.4   126   2.31\n",
      "44        45  0    1.020  5.68  876.0  35.8   308   4.49\n",
      "45        46  1    1.021  5.94  774.0  27.9   325   6.96\n",
      "46        47  1    1.024  5.77  698.0  19.5   354  13.00\n",
      "47        48  1    1.024  5.60  866.0  29.5   360   5.54\n",
      "48        49  1    1.021  5.53  775.0  31.2   302   6.19\n",
      "49        50  1    1.024  5.36  853.0  27.6   364   7.31\n"
     ]
    }
   ],
   "source": [
    "# Selecting/slicing rows (first row position 0!)\n",
    "print(\"Rows 41-50: \", df[40:50])"
   ]
  },
  {
   "cell_type": "code",
   "execution_count": 13,
   "metadata": {},
   "outputs": [
    {
     "name": "stdout",
     "output_type": "stream",
     "text": [
      "    r   calc\n",
      "40  0   2.66\n",
      "41  0   1.22\n",
      "42  0   2.64\n",
      "43  0   2.31\n",
      "44  0   4.49\n",
      "45  1   6.96\n",
      "46  1  13.00\n",
      "47  1   5.54\n",
      "48  1   6.19\n",
      "49  1   7.31\n",
      "50  1  14.34\n"
     ]
    }
   ],
   "source": [
    "# Select rows and columns with loc method\n",
    "df_loc = df.loc[40:50,['r','calc']]\n",
    "print(df_loc)"
   ]
  },
  {
   "cell_type": "code",
   "execution_count": 14,
   "metadata": {},
   "outputs": [
    {
     "name": "stdout",
     "output_type": "stream",
     "text": [
      "\n",
      "Method iloc:\n",
      "     r    ph   calc\n",
      "40  0  5.33   2.66\n",
      "41  0  5.64   1.22\n",
      "42  0  6.79   2.64\n",
      "43  0  5.97   2.31\n",
      "44  0  5.68   4.49\n",
      "45  1  5.94   6.96\n",
      "46  1  5.77  13.00\n",
      "47  1  5.60   5.54\n",
      "48  1  5.53   6.19\n",
      "49  1  5.36   7.31\n",
      "\n",
      "Column selection by position\n",
      " 52    6.27\n",
      "53    7.01\n",
      "55    6.13\n",
      "56    5.73\n",
      "59    5.56\n",
      "64    5.98\n",
      "65    5.58\n",
      "67    6.75\n",
      "70    4.76\n",
      "75    4.81\n",
      "Name: ph, dtype: float64\n",
      "\n",
      "Column selection 2 by position\n",
      " 52    6.27\n",
      "53    7.01\n",
      "55    6.13\n",
      "56    5.73\n",
      "59    5.56\n",
      "64    5.98\n",
      "65    5.58\n",
      "67    6.75\n",
      "70    4.76\n",
      "75    4.81\n",
      "Name: ph, dtype: float64\n",
      "\n",
      "Another example of iloc:\n",
      "     r    ph\n",
      "0   0  4.91\n",
      "44  0  5.68\n",
      "45  1  5.94\n",
      "78  1  6.03\n"
     ]
    }
   ],
   "source": [
    "# Select rows and columns using positions with iloc method\n",
    "df_iloc = df.iloc[40:50,[1,3,7]]\n",
    "print(\"\\nMethod iloc:\\n\", df_iloc)\n",
    "# One column by position in df_r1_calc4 subset\n",
    "print(\"\\nColumn selection by position\\n\", df_r1_calc4[df_r1_calc4.columns[3]])\n",
    "print(\"\\nColumn selection 2 by position\\n\", df_r1_calc4.iloc[:,3])\n",
    "# Another example with iloc method\n",
    "df_iloc2 = df.iloc[[0,44,45,78], [1,3]]\n",
    "print(\"\\nAnother example of iloc:\\n\", df_iloc2)"
   ]
  },
  {
   "cell_type": "code",
   "execution_count": 15,
   "metadata": {},
   "outputs": [
    {
     "data": {
      "text/html": [
       "<div>\n",
       "<style scoped>\n",
       "    .dataframe tbody tr th:only-of-type {\n",
       "        vertical-align: middle;\n",
       "    }\n",
       "\n",
       "    .dataframe tbody tr th {\n",
       "        vertical-align: top;\n",
       "    }\n",
       "\n",
       "    .dataframe thead th {\n",
       "        text-align: right;\n",
       "    }\n",
       "</style>\n",
       "<table border=\"1\" class=\"dataframe\">\n",
       "  <thead>\n",
       "    <tr style=\"text-align: right;\">\n",
       "      <th></th>\n",
       "      <th>rownames</th>\n",
       "      <th>r</th>\n",
       "      <th>gravity</th>\n",
       "      <th>ph</th>\n",
       "      <th>osmo</th>\n",
       "      <th>cond</th>\n",
       "      <th>urea</th>\n",
       "      <th>calc</th>\n",
       "    </tr>\n",
       "  </thead>\n",
       "  <tbody>\n",
       "    <tr>\n",
       "      <th>25</th>\n",
       "      <td>26</td>\n",
       "      <td>0</td>\n",
       "      <td>1.017</td>\n",
       "      <td>6.76</td>\n",
       "      <td>455.0</td>\n",
       "      <td>8.8</td>\n",
       "      <td>270</td>\n",
       "      <td>0.77</td>\n",
       "    </tr>\n",
       "    <tr>\n",
       "      <th>67</th>\n",
       "      <td>68</td>\n",
       "      <td>1</td>\n",
       "      <td>1.012</td>\n",
       "      <td>6.75</td>\n",
       "      <td>251.0</td>\n",
       "      <td>5.1</td>\n",
       "      <td>141</td>\n",
       "      <td>0.65</td>\n",
       "    </tr>\n",
       "    <tr>\n",
       "      <th>75</th>\n",
       "      <td>76</td>\n",
       "      <td>1</td>\n",
       "      <td>1.017</td>\n",
       "      <td>4.81</td>\n",
       "      <td>410.0</td>\n",
       "      <td>13.3</td>\n",
       "      <td>195</td>\n",
       "      <td>0.58</td>\n",
       "    </tr>\n",
       "    <tr>\n",
       "      <th>70</th>\n",
       "      <td>71</td>\n",
       "      <td>1</td>\n",
       "      <td>1.028</td>\n",
       "      <td>4.76</td>\n",
       "      <td>312.0</td>\n",
       "      <td>12.4</td>\n",
       "      <td>10</td>\n",
       "      <td>0.27</td>\n",
       "    </tr>\n",
       "    <tr>\n",
       "      <th>27</th>\n",
       "      <td>28</td>\n",
       "      <td>0</td>\n",
       "      <td>1.010</td>\n",
       "      <td>6.61</td>\n",
       "      <td>225.0</td>\n",
       "      <td>9.8</td>\n",
       "      <td>72</td>\n",
       "      <td>0.17</td>\n",
       "    </tr>\n",
       "  </tbody>\n",
       "</table>\n",
       "</div>"
      ],
      "text/plain": [
       "    rownames  r  gravity    ph   osmo  cond  urea  calc\n",
       "25        26  0    1.017  6.76  455.0   8.8   270  0.77\n",
       "67        68  1    1.012  6.75  251.0   5.1   141  0.65\n",
       "75        76  1    1.017  4.81  410.0  13.3   195  0.58\n",
       "70        71  1    1.028  4.76  312.0  12.4    10  0.27\n",
       "27        28  0    1.010  6.61  225.0   9.8    72  0.17"
      ]
     },
     "execution_count": 15,
     "metadata": {},
     "output_type": "execute_result"
    }
   ],
   "source": [
    "# Sorted by column calc\n",
    "df_sorted = df.sort_values( by='calc', ascending=False)\n",
    "# df_sorted\n",
    "# shift+tab for doc\n",
    "# Last rows with tail()\n",
    "df_sorted.tail()"
   ]
  },
  {
   "cell_type": "markdown",
   "metadata": {},
   "source": [
    "# NumPY"
   ]
  },
  {
   "cell_type": "markdown",
   "metadata": {},
   "source": [
    "### NDARRAY OBJECT"
   ]
  },
  {
   "cell_type": "code",
   "execution_count": 16,
   "metadata": {},
   "outputs": [
    {
     "name": "stdout",
     "output_type": "stream",
     "text": [
      "\n",
      "1D array:\n",
      " [1 2 3]\n",
      "\n",
      "2D array:\n",
      " [[1 2]\n",
      " [3 4]]\n",
      "\n",
      "Min.dim.:\n",
      " [[1 2 3]]\n"
     ]
    }
   ],
   "source": [
    "# Import module\n",
    "import numpy as np\n",
    "\n",
    "# Create numpy array\n",
    "a = np.array([1,2,3]) \n",
    "print(\"\\n1D array:\\n\",a)\n",
    "\n",
    "# With more than one dimension \n",
    "b = np.array([[1, 2], [3, 4]]) \n",
    "print(\"\\n2D array:\\n\",b)\n",
    "\n",
    "# Set minimum dimensions\n",
    "c = np.array([1,2,3], ndmin = 2) \n",
    "print(\"\\nMin.dim.:\\n\",c)"
   ]
  },
  {
   "cell_type": "markdown",
   "metadata": {},
   "source": [
    "### NDARRAY SCALAR DATA TYPES (dtype)\n",
    "\n",
    "Different scalar data types defined in NumPy.\n",
    "\n",
    "NumPy numerical types are instances of dtype (data-type) object.\n",
    "\n",
    "The dtype object describes interpretation of fixed block of memory."
   ]
  },
  {
   "cell_type": "code",
   "execution_count": 17,
   "metadata": {},
   "outputs": [
    {
     "name": "stdout",
     "output_type": "stream",
     "text": [
      "x (int8): [1 2 4] --> type: <class 'numpy.ndarray'>\n",
      "y (float32):  1.0\n",
      "z (uint8):  [0 1 2]\n",
      "uint8 to float:  [0. 1. 2.]\n",
      "Type of z = uint8\n",
      "Type of zf = float64\n"
     ]
    }
   ],
   "source": [
    "# np.int8: -128 to 127\n",
    "x = np.int8([1,2,4])\n",
    "print(\"x (int8): {} --> type: {}\".format(x,type(x)))\n",
    "\n",
    "# np.float32\n",
    "y = np.float32(1.0)\n",
    "print(\"y (float32): \", y)\n",
    "\n",
    "# np_uint8 (unsigned long)\n",
    "z = np.arange(3, dtype=np.uint8)\n",
    "print(\"z (uint8): \", z)\n",
    "\n",
    "# Convert type using astype() method\n",
    "zf = z.astype(float) \n",
    "print(\"uint8 to float: \", zf)\n",
    "\n",
    "# To know/show dtype\n",
    "print(\"Type of z = {}\\nType of zf = {}\".format(z.dtype,zf.dtype))"
   ]
  },
  {
   "cell_type": "code",
   "execution_count": 18,
   "metadata": {},
   "outputs": [],
   "source": [
    "# EXAMPLE 1: population data\n",
    "dt = np.dtype([('country', 'U20'), \n",
    "               ('density', 'i4'), \n",
    "               ('area', 'i4'), \n",
    "               ('population', 'i4')])\n",
    "# To use 32-bit signed integer: np.dtype('i4')\n",
    "# To use 64-bit floating-point number: np.dtype('f8')\n",
    "# To use actual strings in Python 3 use U or np.unicode\n",
    "# e.g. 25-character string: np.dtype('U20')\n",
    "\n",
    "# Create nparray with population data\n",
    "np_population = np.array([\n",
    "    ('Netherlands', 393, 41526, 16928800),\n",
    "    ('Belgium', 337, 30510, 11007020),\n",
    "    ('United Kingdom', 256, 243610, 62262000),\n",
    "    ('Germany', 233, 357021, 81799600),\n",
    "    ('Liechtenstein', 205, 160, 32842),\n",
    "    ('Italy', 192, 301230, 59715625),\n",
    "    ('Switzerland', 177, 41290, 7301994),\n",
    "    ('Luxembourg', 173, 2586, 512000),\n",
    "    ('France', 111, 547030, 63601002),\n",
    "    ('Austria', 97, 83858, 8169929),\n",
    "    ('Greece', 81, 131940, 11606813),\n",
    "    ('Ireland', 65, 70280, 4581269),\n",
    "    ('Sweden', 20, 449964, 9515744),\n",
    "    ('Finland', 16, 338424, 5410233),\n",
    "    ('Norway', 13, 385252, 5033675)],\n",
    "    dtype=dt)"
   ]
  },
  {
   "cell_type": "code",
   "execution_count": 19,
   "metadata": {},
   "outputs": [
    {
     "name": "stdout",
     "output_type": "stream",
     "text": [
      "[('Netherlands', 393,  41526, 16928800) ('Belgium', 337,  30510, 11007020)\n",
      " ('United Kingdom', 256, 243610, 62262000)\n",
      " ('Germany', 233, 357021, 81799600)]\n",
      "\n",
      "Country: Netherlands has population of 16928800\n",
      "\n",
      "Country: Belgium has population of 11007020\n",
      "\n",
      "Country: United Kingdom has population of 62262000\n",
      "\n",
      "Country: Germany has population of 81799600\n",
      "\n",
      "Country: Liechtenstein has population of 32842\n",
      "\n",
      "Country: Italy has population of 59715625\n",
      "\n",
      "Country: Switzerland has population of 7301994\n",
      "\n",
      "Country: Luxembourg has population of 512000\n",
      "\n",
      "Country: France has population of 63601002\n",
      "\n",
      "Country: Austria has population of 8169929\n",
      "\n",
      "Country: Greece has population of 11606813\n",
      "\n",
      "Country: Ireland has population of 4581269\n",
      "\n",
      "Country: Sweden has population of 9515744\n",
      "\n",
      "Country: Finland has population of 5410233\n",
      "\n",
      "Country: Norway has population of 5033675\n"
     ]
    }
   ],
   "source": [
    "# Show first 4 elements\n",
    "print(np_population[:4])\n",
    "\n",
    "# Iterate over ndarray with for loop\n",
    "for element in np_population:\n",
    "    print(\"\\nCountry: {} has population of {}\".format(element[0],element[3]))"
   ]
  },
  {
   "cell_type": "markdown",
   "metadata": {},
   "source": [
    "### NDARRAY ATTRIBUTES\n",
    "\n",
    "Array attributes reflect information about the array itself.\n",
    "\n",
    "Using its attributes you can get (and sometimes set) properties of array without creating a new array."
   ]
  },
  {
   "cell_type": "code",
   "execution_count": 20,
   "metadata": {},
   "outputs": [
    {
     "name": "stdout",
     "output_type": "stream",
     "text": [
      "DTYPE:\n",
      " [('country', '<U20'), ('density', '<i4'), ('area', '<i4'), ('population', '<i4')]\n",
      "FLAGS:\n",
      "   C_CONTIGUOUS : True\n",
      "  F_CONTIGUOUS : True\n",
      "  OWNDATA : True\n",
      "  WRITEABLE : True\n",
      "  ALIGNED : True\n",
      "  WRITEBACKIFCOPY : False\n",
      "\n"
     ]
    }
   ],
   "source": [
    "# dtype\n",
    "print(\"DTYPE:\\n\", np_population.dtype)\n",
    "\n",
    "# Information about the memory layout of the array \n",
    "print(\"FLAGS:\\n\", np_population.flags)"
   ]
  },
  {
   "cell_type": "code",
   "execution_count": 21,
   "metadata": {},
   "outputs": [
    {
     "name": "stdout",
     "output_type": "stream",
     "text": [
      "NDIM:\n",
      " 1\n",
      "SHAPE:\n",
      " (15,)\n",
      "SIZE:\n",
      " 15\n",
      "ITEMSIZE:\n",
      " 92\n",
      "NBYTES:\n",
      " 1380\n"
     ]
    }
   ],
   "source": [
    "# Number of array dimension\n",
    "print(\"NDIM:\\n\", np_population.ndim)\n",
    "\n",
    "# Tuple of array dimensions\n",
    "print(\"SHAPE:\\n\", np_population.shape)\n",
    "\n",
    "# Number of elements in array\n",
    "print(\"SIZE:\\n\", np_population.size)\n",
    "\n",
    "# Length of one array element in bytes\n",
    "print(\"ITEMSIZE:\\n\", np_population.itemsize)\n",
    "\n",
    "# Total bytes consumed by the elements of the array\n",
    "print(\"NBYTES:\\n\", np_population.nbytes)"
   ]
  },
  {
   "cell_type": "markdown",
   "metadata": {},
   "source": [
    "### NDARRAY METHODS"
   ]
  },
  {
   "cell_type": "code",
   "execution_count": 22,
   "metadata": {},
   "outputs": [
    {
     "name": "stdout",
     "output_type": "stream",
     "text": [
      "Second element from population ndarray:\n",
      " ('Belgium', 337, 30510, 11007020)\n",
      "List:\n",
      " [('Netherlands', 393, 41526, 16928800), ('Belgium', 337, 30510, 11007020), ('United Kingdom', 256, 243610, 62262000), ('Germany', 233, 357021, 81799600), ('Liechtenstein', 205, 160, 32842), ('Italy', 192, 301230, 59715625), ('Switzerland', 177, 41290, 7301994), ('Luxembourg', 173, 2586, 512000), ('France', 111, 547030, 63601002), ('Austria', 97, 83858, 8169929), ('Greece', 81, 131940, 11606813), ('Ireland', 65, 70280, 4581269), ('Sweden', 20, 449964, 9515744), ('Finland', 16, 338424, 5410233), ('Norway', 13, 385252, 5033675)]\n",
      "ndarray.itemset:\n",
      " ('BELGIUM', 337, 30510, 11007020)\n"
     ]
    }
   ],
   "source": [
    "# Copy element of array to standard Python scalar and return it\n",
    "population_element = np_population[1]\n",
    "print(\"Second element from population ndarray:\\n\", population_element)\n",
    "    \n",
    "# Return array as a (possibly nested) list\n",
    "population_list = np_population.tolist()\n",
    "print(\"List:\\n\", population_list)\n",
    "\n",
    "# Insert scalar into array, last argument is item\n",
    "np_population.itemset(1, ('BELGIUM', 337, 30510, 11007020) )\n",
    "print(\"ndarray.itemset:\\n\", np_population[1])"
   ]
  },
  {
   "cell_type": "markdown",
   "metadata": {},
   "source": [
    "### BIOPYTHON"
   ]
  },
  {
   "cell_type": "code",
   "execution_count": 23,
   "metadata": {},
   "outputs": [],
   "source": [
    "#Import SeqIO from biopython \n",
    "from Bio import SeqIO"
   ]
  },
  {
   "cell_type": "code",
   "execution_count": 24,
   "metadata": {},
   "outputs": [
    {
     "name": "stdout",
     "output_type": "stream",
     "text": [
      "Frequences of mm10_dna:\n",
      " [[7]\n",
      " [4]\n",
      " [3]\n",
      " [6]]\n"
     ]
    }
   ],
   "source": [
    "# Example 2: storing nucleotide frequencies in nparray\n",
    "def freq_numpy(dna_list):\n",
    "    frequency_matrix = np.zeros((4, len(dna_list[0])), dtype=np.int32)\n",
    "    base2index = {'A': 0, 'C': 1, 'G': 2, 'T': 3}\n",
    "    for dna in dna_list:\n",
    "        for index, base in enumerate(dna):\n",
    "            frequency_matrix[base2index[base]][index] += 1\n",
    "    return frequency_matrix\n",
    "\n",
    "mm10_dna = \"ACACTCAACTGTTTTAGAAG\"\n",
    "print(\"Frequences of mm10_dna:\\n\", freq_numpy(mm10_dna))"
   ]
  },
  {
   "cell_type": "code",
   "execution_count": 25,
   "metadata": {},
   "outputs": [
    {
     "name": "stdout",
     "output_type": "stream",
     "text": [
      "\n",
      "Length of mm10_dna.fasta:  31743\n",
      "\n",
      "Frequencies:\n",
      " [[9121]\n",
      " [7005]\n",
      " [6592]\n",
      " [9025]]\n"
     ]
    }
   ],
   "source": [
    "# Import SeqIO from biopython\n",
    "from Bio import SeqIO\n",
    "# Fasta file from Leho in jupyter notebook folder\n",
    "fasta_file = open(\"mm10_dna.fasta\",\"r\")\n",
    "for seq_record in SeqIO.parse(fasta_file, \"fasta\"):\n",
    "    # Get length of fasta record\n",
    "    print(\"\\nLength of mm10_dna.fasta: \", len(seq_record))\n",
    "    # Calculate frequencies\n",
    "    print(\"\\nFrequencies:\\n\", freq_numpy(seq_record))\n",
    "fasta_file.close()"
   ]
  }
 ],
 "metadata": {
  "kernelspec": {
   "display_name": "Python 3 (ipykernel)",
   "language": "python",
   "name": "python3"
  },
  "language_info": {
   "codemirror_mode": {
    "name": "ipython",
    "version": 3
   },
   "file_extension": ".py",
   "mimetype": "text/x-python",
   "name": "python",
   "nbconvert_exporter": "python",
   "pygments_lexer": "ipython3",
   "version": "3.11.7"
  }
 },
 "nbformat": 4,
 "nbformat_minor": 4
}
